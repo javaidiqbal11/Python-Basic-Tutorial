{
 "cells": [
  {
   "cell_type": "markdown",
   "metadata": {},
   "source": [
    "## Week 02, Class 2, 20 Jan 2021\n",
    "### String datatype"
   ]
  },
  {
   "cell_type": "markdown",
   "metadata": {},
   "source": [
    "#### String is also a container so most of the things that were working for list will work for String. \n",
    "#### Difference: List is mutable but String is immutable"
   ]
  },
  {
   "cell_type": "code",
   "execution_count": 1,
   "metadata": {},
   "outputs": [
    {
     "name": "stdout",
     "output_type": "stream",
     "text": [
      "Jasem Salem\n",
      "J\n",
      "a\n",
      "s\n",
      "e\n",
      "m\n",
      " \n",
      "S\n",
      "a\n",
      "l\n"
     ]
    }
   ],
   "source": [
    "name = 'Jasem Salem'\n",
    "print(name)\n",
    "# Since string is also a container the indexing works the same way\n",
    "#\n",
    "\n",
    "print(  name[0] )\n",
    "print(  name[1] )\n",
    "print(  name[2] )\n",
    "print(  name[3] )\n",
    "print(  name[4] )\n",
    "print(  name[5] )\n",
    "print(  name[6] )\n",
    "print(  name[7] )\n",
    "print(  name[8] )"
   ]
  },
  {
   "cell_type": "code",
   "execution_count": 2,
   "metadata": {},
   "outputs": [
    {
     "name": "stdout",
     "output_type": "stream",
     "text": [
      "Jasem Salem\n",
      "J      J\n",
      "a      a\n",
      "s      s\n",
      "e      e\n",
      "m      m\n",
      "        \n",
      "S      S\n",
      "a      a\n",
      "l      l\n",
      "e      e\n",
      "m      m\n"
     ]
    }
   ],
   "source": [
    "name = 'Jasem Salem'\n",
    "print(name)\n",
    "# Since string is also a container the indexing works the same way\n",
    "idx=0\n",
    "for c in name:\n",
    "    print(c, \"    \", name[idx])\n",
    "    idx+=1"
   ]
  },
  {
   "cell_type": "code",
   "execution_count": 3,
   "metadata": {},
   "outputs": [
    {
     "name": "stdout",
     "output_type": "stream",
     "text": [
      "m\n"
     ]
    }
   ],
   "source": [
    "name = 'Jasem Salem'\n",
    "print( name[-1] ) # -1 is for the last index"
   ]
  },
  {
   "cell_type": "code",
   "execution_count": 4,
   "metadata": {},
   "outputs": [
    {
     "name": "stdout",
     "output_type": "stream",
     "text": [
      "Ali Salem\n"
     ]
    }
   ],
   "source": [
    "name = 'Jasem Salem'\n",
    "#name[0] = 'j' # Error. You cannot do that because strs are immutable \n",
    "\n",
    "name = 'Ali Salem'\n",
    "print(name)\n",
    "#In the the last two lines you are creating a new string object. \n",
    "#Now name is pointing to that old one remains intact."
   ]
  },
  {
   "cell_type": "code",
   "execution_count": 5,
   "metadata": {},
   "outputs": [
    {
     "name": "stdout",
     "output_type": "stream",
     "text": [
      "Hello World!\n"
     ]
    }
   ],
   "source": [
    "hello = \"Hello\" + \" \" + \"World!\"\n",
    "print(hello)"
   ]
  },
  {
   "cell_type": "code",
   "execution_count": 6,
   "metadata": {},
   "outputs": [
    {
     "name": "stdout",
     "output_type": "stream",
     "text": [
      "Hello World!\n"
     ]
    }
   ],
   "source": [
    "h = \"Hello\" \n",
    "sp = \" \"\n",
    "w = \"World!\"\n",
    "\n",
    "s = h+sp+w\n",
    "\n",
    "print(s)"
   ]
  },
  {
   "cell_type": "code",
   "execution_count": 7,
   "metadata": {},
   "outputs": [
    {
     "name": "stdout",
     "output_type": "stream",
     "text": [
      "*_**_**_**_**_**_**_**_**_**_**_**_**_**_**_**_**_**_**_**_**_**_**_**_**_**_**_**_**_**_*\n"
     ]
    }
   ],
   "source": [
    "s = \"*_*\" * 30\n",
    "print(s)"
   ]
  },
  {
   "cell_type": "code",
   "execution_count": 18,
   "metadata": {},
   "outputs": [
    {
     "name": "stdout",
     "output_type": "stream",
     "text": [
      "This i\n",
      "Ti sotsml etfroreapei yhn\n"
     ]
    }
   ],
   "source": [
    "text = \"This is out sample text for our example in Python.\"\n",
    "print(text[0:6] )\n",
    "print(text[::2] )# printing indices 0,2,4,6,...end"
   ]
  },
  {
   "cell_type": "code",
   "execution_count": 21,
   "metadata": {},
   "outputs": [
    {
     "name": "stdout",
     "output_type": "stream",
     "text": [
      "llo W\n"
     ]
    }
   ],
   "source": [
    "x = \"Hello World!\"[2:7]\n",
    "print(x)"
   ]
  },
  {
   "cell_type": "code",
   "execution_count": 26,
   "metadata": {},
   "outputs": [
    {
     "name": "stdout",
     "output_type": "stream",
     "text": [
      "['S', 'a', 'e', 'e', 'd']\n",
      "Saeed\n"
     ]
    }
   ],
   "source": [
    "name = 'Saeed'\n",
    "cs = list(name)\n",
    "print(  cs  )\n",
    "\n",
    "s=\"\"\n",
    "for c in cs:\n",
    "    s=s+c\n",
    "print(s)    "
   ]
  },
  {
   "cell_type": "code",
   "execution_count": 30,
   "metadata": {},
   "outputs": [
    {
     "name": "stdout",
     "output_type": "stream",
     "text": [
      "['t', 'x', 'e', 't', ' ', 'a', ' ', 's', 'i', ' ', 's', 'i', 'h', 'T']\n",
      "txet a si sihT\n"
     ]
    }
   ],
   "source": [
    "s = \"This is a text\"\n",
    "print( list(reversed(s)) )\n",
    "cs=\"\"\n",
    "for c in reversed(s):\n",
    "    cs=cs+c\n",
    "print(cs)    "
   ]
  },
  {
   "cell_type": "markdown",
   "metadata": {},
   "source": [
    "# Tuples"
   ]
  },
  {
   "cell_type": "code",
   "execution_count": 32,
   "metadata": {},
   "outputs": [
    {
     "name": "stdout",
     "output_type": "stream",
     "text": [
      "(1, 2, 3)\n",
      "(1, 2, 3)\n",
      "(1,)\n",
      "(1,)\n",
      "<class 'tuple'>\n"
     ]
    }
   ],
   "source": [
    "t = 1,2,3 # tuple\n",
    "print(t)\n",
    "t = (1,2,3) # tuple\n",
    "print(t)\n",
    "t = 1, # tuple\n",
    "print(t)\n",
    "t = (1,)# tuple\n",
    "print(t)\n",
    "print( type(t)  )"
   ]
  },
  {
   "cell_type": "code",
   "execution_count": 34,
   "metadata": {},
   "outputs": [
    {
     "name": "stdout",
     "output_type": "stream",
     "text": [
      "('H001', 'Sultan', 3.45, '0123456789')\n",
      "('H002', 'Salem', 3.5, '999999999')\n",
      "('H003', 'Saeed', 3.1, '000000000')\n",
      "[('H001', 'Sultan', 3.45, '0123456789'), ('H002', 'Salem', 3.5, '999999999'), ('H003', 'Saeed', 3.1, '000000000')]\n"
     ]
    }
   ],
   "source": [
    "rec1 = ('H001', 'Sultan', 3.45,'0123456789')\n",
    "print(rec1)\n",
    "rec2 = ('H002', 'Salem', 3.5,'999999999')\n",
    "print(rec2)\n",
    "rec3 = ('H003', 'Saeed', 3.1,'000000000')\n",
    "print(rec3)\n",
    "\n",
    "recs = [rec1, rec2, rec3]\n",
    "print(recs)"
   ]
  },
  {
   "cell_type": "code",
   "execution_count": 38,
   "metadata": {},
   "outputs": [
    {
     "name": "stdout",
     "output_type": "stream",
     "text": [
      "H001\n",
      "Sultan\n",
      "('H001', 'Sultan')\n"
     ]
    },
    {
     "ename": "TypeError",
     "evalue": "'tuple' object does not support item assignment",
     "output_type": "error",
     "traceback": [
      "\u001B[1;31m---------------------------------------------------------------------------\u001B[0m",
      "\u001B[1;31mTypeError\u001B[0m                                 Traceback (most recent call last)",
      "\u001B[1;32m<ipython-input-38-b890547a8def>\u001B[0m in \u001B[0;36m<module>\u001B[1;34m\u001B[0m\n\u001B[0;32m      4\u001B[0m \u001B[0mprint\u001B[0m\u001B[1;33m(\u001B[0m\u001B[0mrec1\u001B[0m\u001B[1;33m[\u001B[0m\u001B[1;36m0\u001B[0m\u001B[1;33m:\u001B[0m\u001B[1;36m2\u001B[0m\u001B[1;33m]\u001B[0m\u001B[1;33m)\u001B[0m\u001B[1;33m\u001B[0m\u001B[1;33m\u001B[0m\u001B[0m\n\u001B[0;32m      5\u001B[0m \u001B[1;31m# immutablity of tuple\u001B[0m\u001B[1;33m\u001B[0m\u001B[1;33m\u001B[0m\u001B[1;33m\u001B[0m\u001B[0m\n\u001B[1;32m----> 6\u001B[1;33m \u001B[0mrec1\u001B[0m\u001B[1;33m[\u001B[0m\u001B[1;36m0\u001B[0m\u001B[1;33m]\u001B[0m \u001B[1;33m=\u001B[0m \u001B[1;34m\"H100\"\u001B[0m \u001B[1;31m#error\u001B[0m\u001B[1;33m\u001B[0m\u001B[1;33m\u001B[0m\u001B[0m\n\u001B[0m",
      "\u001B[1;31mTypeError\u001B[0m: 'tuple' object does not support item assignment"
     ]
    }
   ],
   "source": [
    "rec1 = ('H001', 'Sultan', 3.45,'0123456789')\n",
    "print(rec1[0])\n",
    "print(rec1[1])\n",
    "print(rec1[0:2])\n",
    "# immutablity of tuple\n",
    "rec1[0] = \"H100\" #error"
   ]
  },
  {
   "cell_type": "code",
   "execution_count": 39,
   "metadata": {},
   "outputs": [
    {
     "name": "stdout",
     "output_type": "stream",
     "text": [
      "('H100', 'Sauood', 2.9, '3333333333')\n"
     ]
    }
   ],
   "source": [
    "#What is allowed\n",
    "rec1 = ('H001', 'Sultan', 3.45,'0123456789')\n",
    "rec1 = (\"H100\", 'Sauood', 2.9, '3333333333')\n",
    "print(rec1)"
   ]
  },
  {
   "cell_type": "code",
   "execution_count": 41,
   "metadata": {},
   "outputs": [
    {
     "name": "stdout",
     "output_type": "stream",
     "text": [
      "(11, 22, 33)\n"
     ]
    }
   ],
   "source": [
    "t = (33,22,11)\n",
    "t = tuple ( sorted(t)  ) \n",
    "print( t)"
   ]
  },
  {
   "cell_type": "code",
   "execution_count": 50,
   "metadata": {},
   "outputs": [
    {
     "name": "stdout",
     "output_type": "stream",
     "text": [
      "Enter state to search:Abu Dhabi\n",
      "('E001', 'Sultan', 10000, 'Abu Dhabi')\n",
      "The number of employees from  Abu Dhabi is 1\n"
     ]
    }
   ],
   "source": [
    "rec1 = ('E001', 'Sultan', 10000,'Abu Dhabi')\n",
    "rec2 = ('E002', 'Salem', 15000, 'Sharjah')\n",
    "rec3 = ('E003', 'Saeed', 18000, 'Sharjah')\n",
    "rec4 = ('E004', 'Ali', 16000, 'Dubai')\n",
    "recs = [rec1, rec2, rec3, rec4]\n",
    "\n",
    "#Q1: Count the number of employees from Sharjah\n",
    "state=input(\"Enter state to search:\")\n",
    "c=0\n",
    "for r in recs:\n",
    "    if r[3]==state:\n",
    "        c=c+1\n",
    "        print(r)\n",
    "\n",
    "if c==1:\n",
    "    print(\"The number of employees from \", state ,\"is\", c)\n",
    "elif c==0:\n",
    "    print(\"No employee from \", state)\n",
    "else:\n",
    "    print(\"The number of employees from \", state ,\"are\", c)"
   ]
  },
  {
   "cell_type": "code",
   "execution_count": 55,
   "metadata": {},
   "outputs": [
    {
     "name": "stdout",
     "output_type": "stream",
     "text": [
      "('E001', 'Sultan', 10000, 'Programmer', 'Abu Dhabi')\n",
      "Salary 10000\n",
      "Bonus 500.0\n",
      "Total 10500.0\n",
      "--------------------\n",
      "('E002', 'Salem', 15000, 'Manager', 'Sharjah')\n",
      "Salary 15000\n",
      "Bonus 1050.0\n",
      "Total 16050.0\n",
      "--------------------\n",
      "('E003', 'Saeed', 18000, 'Programmer', 'Sharjah')\n",
      "Salary 18000\n",
      "Bonus 900.0\n",
      "Total 18900.0\n",
      "--------------------\n",
      "('E004', 'Ali', 16000, 'Manager', 'Dubai')\n",
      "Salary 16000\n",
      "Bonus 1120.0\n",
      "Total 17120.0\n",
      "--------------------\n",
      "('E005', 'Zayed', 30000, 'CEO', 'Dubai')\n",
      "Salary 30000\n",
      "Bonus 0\n",
      "Total 30000\n",
      "--------------------\n"
     ]
    }
   ],
   "source": [
    "rec1 = ('E001', 'Sultan', 10000, 'Programmer', 'Abu Dhabi')\n",
    "rec2 = ('E002', 'Salem', 15000, 'Manager', 'Sharjah')\n",
    "rec3 = ('E003', 'Saeed', 18000, 'Programmer', 'Sharjah')\n",
    "rec4 = ('E004', 'Ali', 16000, 'Manager', 'Dubai')\n",
    "rec5 = ('E005', 'Zayed', 30000, 'CEO', 'Dubai')\n",
    "\n",
    "recs = [rec1, rec2, rec3, rec4, rec5]\n",
    "\n",
    "#Q2: Give a bonus of 5% of salary to Programmer\n",
    "#    Give a bonus of 7% of salary to Manager\n",
    "#    print all the records with now total salaries\n",
    "for r in recs:\n",
    "    print(r)\n",
    "    if r[3]=='Programmer':\n",
    "        bonus = r[2]*5/100\n",
    "        total = r[2] + bonus\n",
    "        print(\"Salary\", r[2])\n",
    "        print(\"Bonus\", bonus)\n",
    "        print(\"Total\", total)\n",
    "    elif r[3]=='Manager':\n",
    "        bonus = r[2]*7/100\n",
    "        total = r[2] + bonus\n",
    "        print(\"Salary\", r[2])\n",
    "        print(\"Bonus\", bonus)\n",
    "        print(\"Total\", total)\n",
    "    else:\n",
    "        print(\"Salary\", r[2])\n",
    "        print(\"Bonus 0\")\n",
    "        print(\"Total\", r[2])\n",
    "    print('--------------------')    "
   ]
  },
  {
   "cell_type": "markdown",
   "metadata": {},
   "source": [
    "# Dictionary"
   ]
  },
  {
   "cell_type": "code",
   "execution_count": 62,
   "metadata": {},
   "outputs": [
    {
     "name": "stdout",
     "output_type": "stream",
     "text": [
      "['apple', 'bat', 'cat']\n",
      "apple\n",
      "bat\n",
      "cat\n",
      "{0: 'apple', 1: 'ball', 2: 'cat'}\n",
      "apple\n",
      "ball\n",
      "cat\n",
      "{'a': 'apple', 'b': 'ball', 'c': 'cat'}\n",
      "apple\n",
      "ball\n",
      "cat\n"
     ]
    }
   ],
   "source": [
    "#list\n",
    "alphabet = ['apple', 'bat', 'cat'] #index, value\n",
    "print(alphabet)\n",
    "print(alphabet[0])\n",
    "print(alphabet[1])\n",
    "print(alphabet[2])\n",
    "\n",
    "# first dictionary\n",
    "alphabet = {0:'apple', 1:'ball', 2:'cat'  } #index/name/key, value\n",
    "print(alphabet)\n",
    "print(alphabet[0])\n",
    "print(alphabet[1])\n",
    "print(alphabet[2])\n",
    "\n",
    "# Second dictionary\n",
    "alphabet = {'a':'apple', 'b':'ball', 'c':'cat'  } #index/name/key, value\n",
    "print(alphabet)\n",
    "print(alphabet['a'])\n",
    "print(alphabet['b'])\n",
    "print(alphabet['c'])"
   ]
  },
  {
   "cell_type": "code",
   "execution_count": 65,
   "metadata": {},
   "outputs": [
    {
     "name": "stdout",
     "output_type": "stream",
     "text": [
      "80\n",
      "95\n"
     ]
    }
   ],
   "source": [
    "grades = {\"Erik\":80, \"Tim\":95 }\n",
    "print( grades['Erik']  ) # The value 80 will be printed\n",
    "print( grades['Tim']  ) # The value 95 will be printed"
   ]
  },
  {
   "cell_type": "code",
   "execution_count": 69,
   "metadata": {},
   "outputs": [
    {
     "name": "stdout",
     "output_type": "stream",
     "text": [
      "False\n",
      "False\n"
     ]
    }
   ],
   "source": [
    "grades = [80,95]\n",
    "b = 85 in grades\n",
    "print(b)\n",
    "\n",
    "grades = {\"Erik\":80, \"Tim\":95 }\n",
    "b = 'Erik' in grades\n",
    "print(b)"
   ]
  },
  {
   "cell_type": "code",
   "execution_count": 83,
   "metadata": {},
   "outputs": [
    {
     "name": "stdout",
     "output_type": "stream",
     "text": [
      "80\n",
      "95\n",
      "0\n"
     ]
    }
   ],
   "source": [
    "grades = {\"Erik\":80, \"Tim\":95 }\n",
    "x = grades.get('Erik', 0)\n",
    "print(x)\n",
    "x = grades.get('Tim', 0)\n",
    "print(x)\n",
    "x = grades.get('Ali', 0)\n",
    "print(x)"
   ]
  },
  {
   "cell_type": "code",
   "execution_count": 86,
   "metadata": {},
   "outputs": [
    {
     "name": "stdout",
     "output_type": "stream",
     "text": [
      "['Saeed', 'Salem']\n",
      "{'a': 'Saeed', 's': 'Salem'}\n"
     ]
    }
   ],
   "source": [
    "names = ['Ali', 'Salem']\n",
    "names[0] = 'Saeed'\n",
    "print(names)\n",
    "\n",
    "names = {'a':'Ali', 's':'Salem'}\n",
    "names['a'] = 'Saeed'\n",
    "print(names)"
   ]
  },
  {
   "cell_type": "code",
   "execution_count": 91,
   "metadata": {},
   "outputs": [
    {
     "name": "stdout",
     "output_type": "stream",
     "text": [
      "dict_items([('a', 'apple'), ('b', 'ball'), ('c', 'cat')])\n",
      "['a', 'b', 'c']\n",
      "['apple', 'ball', 'cat']\n"
     ]
    }
   ],
   "source": [
    "alphabet = {'a':'apple', 'b':'ball', 'c':'cat'  }\n",
    "\n",
    "t = alphabet.items()\n",
    "print(t)\n",
    "\n",
    "ks = alphabet.keys()\n",
    "print( list(ks))\n",
    "vs = alphabet.values()\n",
    "print( list(vs))\n"
   ]
  },
  {
   "cell_type": "code",
   "execution_count": 94,
   "metadata": {},
   "outputs": [
    {
     "name": "stdout",
     "output_type": "stream",
     "text": [
      "['apple', 'Ahmed', 'Alhai', 'Ali']\n",
      "['apple', 'Ahmed', 'Alhai', 'Ali']\n",
      "('cat', 'Cat', 'coat')\n",
      "None\n"
     ]
    }
   ],
   "source": [
    "names = {'a':['apple','Ahmed','Alhai','Ali'], 'b':'ball', 'c':('cat','Cat','coat') }\n",
    "\n",
    "print( names['a'] )\n",
    "print( names.get('a') )\n",
    "print( names['c'] )\n",
    "print( names.get('d') )"
   ]
  },
  {
   "cell_type": "code",
   "execution_count": 96,
   "metadata": {
    "pycharm": {
     "name": "#%%\n"
    }
   },
   "outputs": [
    {
     "name": "stdout",
     "output_type": "stream",
     "text": [
      "{'E001': ('E001', 'Sultan', 10000, 'Programmer', 'Abu Dhabi'), 'E002': ('E002', 'Salem', 15000, 'Manager', 'Sharjah'), 'E003': ('E003', 'Saeed', 18000, 'Programmer', 'Sharjah'), 'E004': ('E004', 'Ali', 16000, 'Manager', 'Dubai'), 'E005': ('E005', 'Zayed', 30000, 'CEO', 'Dubai')}\n",
      "('E003', 'Saeed', 18000, 'Programmer', 'Sharjah')\n"
     ]
    }
   ],
   "source": [
    "rec1 = ('E001', 'Sultan', 10000, 'Programmer', 'Abu Dhabi')\n",
    "rec2 = ('E002', 'Salem', 15000, 'Manager', 'Sharjah')\n",
    "rec3 = ('E003', 'Saeed', 18000, 'Programmer', 'Sharjah')\n",
    "rec4 = ('E004', 'Ali', 16000, 'Manager', 'Dubai')\n",
    "rec5 = ('E005', 'Zayed', 30000, 'CEO', 'Dubai')\n",
    "\n",
    "recs = {rec1[0]:rec1, rec2[0]:rec2, rec3[0]:rec3, rec4[0]:rec4, rec5[0]:rec5,  }\n",
    "print(recs)\n",
    "\n",
    "print( recs['E003'] )"
   ]
  }
 ],
 "metadata": {
  "kernelspec": {
   "display_name": "Python 3",
   "language": "python",
   "name": "python3"
  },
  "language_info": {
   "codemirror_mode": {
    "name": "ipython",
    "version": 3
   },
   "file_extension": ".py",
   "mimetype": "text/x-python",
   "name": "python",
   "nbconvert_exporter": "python",
   "pygments_lexer": "ipython3",
   "version": "3.8.5"
  }
 },
 "nbformat": 4,
 "nbformat_minor": 4
}
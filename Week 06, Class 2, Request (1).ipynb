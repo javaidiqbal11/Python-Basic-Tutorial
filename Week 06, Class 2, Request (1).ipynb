{
 "cells": [
  {
   "cell_type": "code",
   "execution_count": 10,
   "metadata": {},
   "outputs": [
    {
     "name": "stdout",
     "output_type": "stream",
     "text": [
      "URL:  http://httpbin.org/ip\n",
      "Status code:  200\n",
      "Page Output:\n",
      "\t {\n",
      "  \"origin\": \"10.11.149.222, 31.29.64.181\"\n",
      "}\n",
      "\n",
      "Server headers\n",
      "\t {'Date': 'Wed, 17 Feb 2021 10:28:35 GMT', 'Content-Type': 'application/json', 'Content-Length': '46', 'Connection': 'keep-alive', 'Server': 'gunicorn/19.9.0', 'Access-Control-Allow-Origin': '*', 'Access-Control-Allow-Credentials': 'true'}\n",
      "***************************\n",
      "Date \t Wed, 17 Feb 2021 10:28:35 GMT\n",
      "Content-Type \t application/json\n",
      "Content-Length \t 46\n",
      "Connection \t keep-alive\n",
      "Server \t gunicorn/19.9.0\n",
      "Access-Control-Allow-Origin \t *\n",
      "Access-Control-Allow-Credentials \t true\n",
      "***************************\n"
     ]
    }
   ],
   "source": [
    "import requests\n",
    "r = requests.get(\"http://httpbin.org/ip\")\n",
    "\n",
    "\n",
    "print(\"URL: \", r.url)\n",
    "print(\"Status code: \", r.status_code)\n",
    "print(\"Page Output:\")\n",
    "print(\"\\t\", r.text)\n",
    "print(\"Server headers\")\n",
    "print(\"\\t\", r.headers) # a dictionary\n",
    "print(\"***************************\")\n",
    "for k in r.headers:\n",
    "    print(k, \"\\t\", r.headers[k])\n",
    "print(\"***************************\")\n"
   ]
  },
  {
   "cell_type": "code",
   "execution_count": 9,
   "metadata": {},
   "outputs": [
    {
     "name": "stdout",
     "output_type": "stream",
     "text": [
      "a apple\n",
      "b bat\n"
     ]
    }
   ],
   "source": [
    "d= {'a':'apple', 'b':'bat'}\n",
    "\n",
    "for k in d:\n",
    "    print(k,  d[k])"
   ]
  },
  {
   "cell_type": "code",
   "execution_count": 11,
   "metadata": {},
   "outputs": [
    {
     "name": "stdout",
     "output_type": "stream",
     "text": [
      "URL:  http://httpbin.org/ip\n",
      "Status code:  200\n",
      "Page Output:\n",
      "\t \n",
      "Server headers\n",
      "\t {'Date': 'Wed, 17 Feb 2021 10:31:41 GMT', 'Content-Type': 'application/json', 'Content-Length': '46', 'Connection': 'close', 'Server': 'gunicorn/19.9.0', 'Access-Control-Allow-Origin': '*', 'Access-Control-Allow-Credentials': 'true'}\n",
      "***************************\n",
      "Date \t Wed, 17 Feb 2021 10:31:41 GMT\n",
      "Content-Type \t application/json\n",
      "Content-Length \t 46\n",
      "Connection \t close\n",
      "Server \t gunicorn/19.9.0\n",
      "Access-Control-Allow-Origin \t *\n",
      "Access-Control-Allow-Credentials \t true\n",
      "***************************\n"
     ]
    }
   ],
   "source": [
    "import requests\n",
    "r = requests.head(\"http://httpbin.org/ip\")\n",
    "\n",
    "\n",
    "print(\"URL: \", r.url)\n",
    "print(\"Status code: \", r.status_code)\n",
    "print(\"Page Output:\")\n",
    "print(\"\\t\", r.text)\n",
    "print(\"Server headers\")\n",
    "print(\"\\t\", r.headers) # a dictionary\n",
    "print(\"***************************\")\n",
    "for k in r.headers:\n",
    "    print(k, \"\\t\", r.headers[k])\n",
    "print(\"***************************\")\n"
   ]
  },
  {
   "cell_type": "code",
   "execution_count": 12,
   "metadata": {},
   "outputs": [
    {
     "name": "stdout",
     "output_type": "stream",
     "text": [
      "URL:  http://httpbin.org/headers\n",
      "Status code:  200\n",
      "Page Output:\n",
      "\t {\n",
      "  \"headers\": {\n",
      "    \"Accept\": \"*/*\", \n",
      "    \"Accept-Encoding\": \"gzip, deflate\", \n",
      "    \"Host\": \"httpbin.org\", \n",
      "    \"User-Agent\": \"python-requests/2.24.0\", \n",
      "    \"X-Amzn-Trace-Id\": \"Root=1-602cf161-39f76cfa459d06cb57893542\"\n",
      "  }\n",
      "}\n",
      "\n"
     ]
    }
   ],
   "source": [
    "import requests\n",
    "r = requests.get(\"http://httpbin.org/headers\")\n",
    "\n",
    "\n",
    "print(\"URL: \", r.url)\n",
    "print(\"Status code: \", r.status_code)\n",
    "print(\"Page Output:\")\n",
    "print(\"\\t\", r.text)"
   ]
  },
  {
   "cell_type": "code",
   "execution_count": 14,
   "metadata": {},
   "outputs": [
    {
     "name": "stdout",
     "output_type": "stream",
     "text": [
      "URL:  http://httpbin.org/headers\n",
      "Status code:  200\n",
      "Page Output:\n",
      "\t {\n",
      "  \"headers\": {\n",
      "    \"Accept\": \"hello\", \n",
      "    \"Accept-Encoding\": \"gzip, deflate\", \n",
      "    \"Host\": \"httpbin.org\", \n",
      "    \"User-Agent\": \"IPhone 12\", \n",
      "    \"X-Amzn-Trace-Id\": \"Root=1-602cf2a8-0f447e1b12e0402e7f5e54e6\"\n",
      "  }\n",
      "}\n",
      "\n"
     ]
    }
   ],
   "source": [
    "import requests\n",
    "\n",
    "fake={'User-Agent':'IPhone 12', 'Accept':'hello'}\n",
    "r = requests.get('http://httpbin.org/headers', headers = fake)\n",
    "\n",
    "print(\"URL: \", r.url)\n",
    "print(\"Status code: \", r.status_code)\n",
    "print(\"Page Output:\")\n",
    "print(\"\\t\", r.text)"
   ]
  },
  {
   "cell_type": "code",
   "execution_count": 16,
   "metadata": {},
   "outputs": [
    {
     "name": "stdout",
     "output_type": "stream",
     "text": [
      "URL:  http://httpbin.org/post\n",
      "Status code:  200\n",
      "Page Output:\n",
      "\t {\n",
      "  \"args\": {}, \n",
      "  \"data\": \"\", \n",
      "  \"files\": {}, \n",
      "  \"form\": {\n",
      "    \"address\": \"Abu Dhabi\", \n",
      "    \"cgpa\": \"2.3\", \n",
      "    \"id\": \"salem\", \n",
      "    \"name\": \"salem\", \n",
      "    \"password\": \"123\"\n",
      "  }, \n",
      "  \"headers\": {\n",
      "    \"Accept\": \"*/*\", \n",
      "    \"Accept-Encoding\": \"gzip, deflate\", \n",
      "    \"Content-Length\": \"59\", \n",
      "    \"Content-Type\": \"application/x-www-form-urlencoded\", \n",
      "    \"Host\": \"httpbin.org\", \n",
      "    \"User-Agent\": \"python-requests/2.24.0\", \n",
      "    \"X-Amzn-Trace-Id\": \"Root=1-602cf43f-2f6e4d11431e0d4b407a4fb2\"\n",
      "  }, \n",
      "  \"json\": null, \n",
      "  \"origin\": \"10.11.149.222, 31.29.64.181\", \n",
      "  \"url\": \"http://httpbin.org/post\"\n",
      "}\n",
      "\n"
     ]
    }
   ],
   "source": [
    "import requests\n",
    "\n",
    "mydata={'id':'salem', 'password':'123', 'name':'salem','cgpa':2.3, 'address':'Abu Dhabi'}\n",
    "\n",
    "r = requests.post('http://httpbin.org/post', data=mydata)\n",
    "\n",
    "print(\"URL: \", r.url)\n",
    "print(\"Status code: \", r.status_code)\n",
    "print(\"Page Output:\")\n",
    "print(\"\\t\", r.text)"
   ]
  },
  {
   "cell_type": "code",
   "execution_count": 19,
   "metadata": {
    "pycharm": {
     "name": "#%%\n"
    }
   },
   "outputs": [
    {
     "name": "stdout",
     "output_type": "stream",
     "text": [
      "http://httpbin.org/ip\n",
      "http://httpbin.org/headers\n",
      "http://httpbin.org/html\n"
     ]
    }
   ],
   "source": [
    "# Resource discovery \n",
    "import requests\n",
    "pnames = ['index.html', 'manager.html', 'ip', 'headers', 'header',\n",
    "        'qwerty', 'test.txt', 'test.html', 'user.php', 'users.php', 'html']\n",
    "host = 'http://httpbin.org/'\n",
    "\n",
    "for name in pnames:\n",
    "    purl = host+name\n",
    "    r = requests.get(purl)\n",
    "    if r.status_code !=404:\n",
    "        print(purl)\n",
    "\n",
    "        \n",
    "\n"
   ]
  }
 ],
 "metadata": {
  "kernelspec": {
   "display_name": "Python 3",
   "language": "python",
   "name": "python3"
  },
  "language_info": {
   "codemirror_mode": {
    "name": "ipython",
    "version": 3
   },
   "file_extension": ".py",
   "mimetype": "text/x-python",
   "name": "python",
   "nbconvert_exporter": "python",
   "pygments_lexer": "ipython3",
   "version": "3.8.5"
  }
 },
 "nbformat": 4,
 "nbformat_minor": 4
}
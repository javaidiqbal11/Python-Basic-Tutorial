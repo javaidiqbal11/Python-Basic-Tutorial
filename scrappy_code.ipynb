{
 "cells": [
  {
   "cell_type": "markdown",
   "metadata": {},
   "source": [
    "## Section 3"
   ]
  },
  {
   "cell_type": "code",
   "execution_count": 1,
   "metadata": {},
   "outputs": [],
   "source": [
    "import scrapy\n",
    "\n",
    "class QuotesSpider(scrapy.Spider):\n",
    "    name=\"quotes\"\n",
    "    start_urls = ['https://quotes.toscrape.com/page/1/',]\n",
    "    \n",
    "    def parse(self, response):\n",
    "        for quote in response.css('div.quote'): #[quote Box1, quote Box2, quote Box3,...]\n",
    "            yield {   # dictionary\n",
    "                'text': quote.css('span.text::text').get(),\n",
    "                'author': quote.css('small.author::text').get(),\n",
    "                'tags': quote.css('div.tags a.tag::text').getall()\n",
    "            }\n"
   ]
  },
  {
   "cell_type": "markdown",
   "metadata": {},
   "source": [
    "## Section 5"
   ]
  },
  {
   "cell_type": "code",
   "execution_count": 2,
   "metadata": {},
   "outputs": [],
   "source": [
    "import scrapy\n",
    "\n",
    "class QuotesSpider(scrapy.Spider):\n",
    "    name=\"quotes\"\n",
    "    start_urls = ['https://quotes.toscrape.com/page/1/',]\n",
    "    \n",
    "    def parse(self, response):\n",
    "        for quote in response.css('div.quote'): #[quote Box1, quote Box2, quote Box3,...]\n",
    "            yield {   # dictionary\n",
    "                'text': quote.css('span.text::text').get(),\n",
    "                'author': quote.css('small.author::text').get(),\n",
    "                'tags': quote.css('div.tags a.tag::text').getall()\n",
    "            }\n",
    "\n",
    "        next_page = response.css('li.next a::attr(href)').get()\n",
    "        if next_page is not None:\n",
    "            next_page = response.urljoin(next_page)\n",
    "            yield scrapy.Request(next_page, callback=self.parse)\n",
    "        "
   ]
  },
  {
   "cell_type": "markdown",
   "metadata": {},
   "source": [
    "## Section 6"
   ]
  },
  {
   "cell_type": "code",
   "execution_count": 3,
   "metadata": {},
   "outputs": [],
   "source": [
    "import scrapy\n",
    "\n",
    "class QuotesSpider(scrapy.Spider):\n",
    "    name = \"spider\"\n",
    "    start_urls = ['https://quotes.toscrape.com/page/1/',]\n",
    "    \n",
    "    def parse(self, response):\n",
    "        for qb in response.xpath('//div[@class=\"quote\"]'): #[QuoteBox1,QuoteBox2,... ]\n",
    "            yield{\n",
    "                \"text\": qb.xpath('.//span[@class=\"text\"]/text()').extract_first(),\n",
    "                \"author\": qb.xpath('.//small[@class=\"author\"]/text()').extract_first(),\n",
    "                'tags': qb.xpath('.//div[@class=\"tags\"]/a[@class=\"tag\"]/text()').extract()\n",
    "            }\n",
    "        "
   ]
  },
  {
   "cell_type": "code",
   "execution_count": 4,
   "metadata": {
    "pycharm": {
     "name": "#%%\n"
    }
   },
   "outputs": [],
   "source": [
    "import scrapy\n",
    "\n",
    "class QuotesSpider(scrapy.Spider):\n",
    "    name = \"spider\"\n",
    "    start_urls = ['https://quotes.toscrape.com/page/1/',]\n",
    "    \n",
    "    def parse(self, response):\n",
    "        for qb in response.xpath('//div[@class=\"quote\"]'): #[QuoteBox1,QuoteBox2,... ]\n",
    "            yield{\n",
    "                \"text\": qb.xpath('.//span[@class=\"text\"]/text()').extract_first(),\n",
    "                \"author\": qb.xpath('.//small[@class=\"author\"]/text()').extract_first(),\n",
    "                'tags': qb.xpath('.//div[@class=\"tags\"]/a[@class=\"tag\"]/text()').extract()\n",
    "            }\n",
    "        \n",
    "        next_page_url = response.xpath('//li[@class=\"next\"]/a/@href').extract_first()\n",
    "        if next_page_url is not None:\n",
    "            yield scrapy.Request(response.urljoin(next_page_url))\n",
    "\n"
   ]
  }
 ],
 "metadata": {
  "kernelspec": {
   "display_name": "Python 3",
   "language": "python",
   "name": "python3"
  },
  "language_info": {
   "codemirror_mode": {
    "name": "ipython",
    "version": 3
   },
   "file_extension": ".py",
   "mimetype": "text/x-python",
   "name": "python",
   "nbconvert_exporter": "python",
   "pygments_lexer": "ipython3",
   "version": "3.8.5"
  }
 },
 "nbformat": 4,
 "nbformat_minor": 4
}
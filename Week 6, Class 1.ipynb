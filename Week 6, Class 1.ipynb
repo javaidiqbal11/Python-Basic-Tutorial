{
 "cells": [
  {
   "cell_type": "markdown",
   "metadata": {},
   "source": [
    " ## File Handeling\n",
    " ### CSV and TSV"
   ]
  },
  {
   "cell_type": "code",
   "execution_count": 9,
   "metadata": {},
   "outputs": [
    {
     "name": "stdout",
     "output_type": "stream",
     "text": [
      "SN,Name,Age, City\n",
      "1,Ali,25, Abu Dhabi\n",
      "2,Saeed,30, Dubai\n",
      "3, Salem,28, Fujaira\n"
     ]
    }
   ],
   "source": [
    "fobj = open(\"records.csv\")\n",
    "for line in fobj:\n",
    "    print( line.strip()  )\n",
    "fobj.close() "
   ]
  },
  {
   "cell_type": "code",
   "execution_count": 10,
   "metadata": {},
   "outputs": [
    {
     "name": "stdout",
     "output_type": "stream",
     "text": [
      "1\n",
      "Ali\n",
      "20\n",
      "Abu Dhabi\n"
     ]
    }
   ],
   "source": [
    "line = \" 1 , Ali , 20, Abu Dhabi \"\n",
    "fields = line.split(\",\")\n",
    "print(fields[0].strip())\n",
    "print(fields[1].strip())\n",
    "print(fields[2].strip())\n",
    "print(fields[3].strip())\n"
   ]
  },
  {
   "cell_type": "code",
   "execution_count": 14,
   "metadata": {},
   "outputs": [
    {
     "name": "stdout",
     "output_type": "stream",
     "text": [
      "SN,Name,Age, City\n",
      "2,Saeed,30, Dubai\n",
      "3, Salem,28, Fujaira\n"
     ]
    }
   ],
   "source": [
    "# give me all the record where age >25\n",
    "fobj = open(\"records.csv\")\n",
    "c = 1\n",
    "for line in fobj:\n",
    "    if c==1:\n",
    "        print( line.strip()  )\n",
    "        c = 2\n",
    "        continue\n",
    "    fields = line.split(\",\")\n",
    "    age = int(fields[2])\n",
    "    if age>25:\n",
    "        print( line.strip()  )\n",
    "    "
   ]
  },
  {
   "cell_type": "code",
   "execution_count": 20,
   "metadata": {},
   "outputs": [
    {
     "name": "stdout",
     "output_type": "stream",
     "text": [
      "SN\tName\tAge\t City\t\n",
      "1\tAli\t25\t Abu Dhabi\t\n",
      "2\tSaeed\t30\t Dubai\t\n",
      "3\t Salem\t28\t Fujaira\t\n"
     ]
    }
   ],
   "source": [
    "import csv\n",
    "\n",
    "fobj = open(\"records.csv\")\n",
    "csvreader = csv.reader( fobj )\n",
    "\n",
    "for rec in csvreader:\n",
    "    for f in rec:\n",
    "        print(f, end=\"\\t\")\n",
    "    print() #print(\"\",end=\"\\n\")\n",
    "\n"
   ]
  },
  {
   "cell_type": "code",
   "execution_count": 21,
   "metadata": {},
   "outputs": [
    {
     "name": "stdout",
     "output_type": "stream",
     "text": [
      "SN\tName\tAge\t City\t\n",
      "1\tAli\t25\t Abu Dhabi\t\n",
      "2\tSaeed\t30\t Dubai\t\n",
      "3\t Salem\t28\t Fujaira\t\n"
     ]
    }
   ],
   "source": [
    "import csv as c   # import turtle as t\n",
    "\n",
    "fobj = open(\"records.csv\")\n",
    "csvreader = c.reader( fobj )\n",
    "\n",
    "for rec in csvreader:\n",
    "    for f in rec:\n",
    "        print(f, end=\"\\t\")\n",
    "    print() #print(\"\",end=\"\\n\")\n",
    "\n"
   ]
  },
  {
   "cell_type": "code",
   "execution_count": 24,
   "metadata": {},
   "outputs": [
    {
     "name": "stdout",
     "output_type": "stream",
     "text": [
      "data is written successfully!\n"
     ]
    }
   ],
   "source": [
    "import csv as c\n",
    "\n",
    "data = [ [\"SN\",\"Name\",\"Age\",\"City\"], \n",
    "         ['1','Ali','25','Abu Dhabi'],\n",
    "         ['2','Saeed', '30', 'Dubai'],\n",
    "         ['3','Salem','28', 'Fujaira']\n",
    "       ]\n",
    "\n",
    "fobj = open(\"students.csv\", 'w')\n",
    "wrt = c.writer( fobj  )\n",
    "wrt.writerows( data )\n",
    "print(\"data is written successfully!\")"
   ]
  },
  {
   "cell_type": "code",
   "execution_count": 25,
   "metadata": {},
   "outputs": [
    {
     "name": "stdout",
     "output_type": "stream",
     "text": [
      "text at line1: CSF 2113\n",
      "text at line2: Programing for information security\n",
      "text at line3: SWC\n",
      "text at line4: Sharjah\n",
      "text at line5: UAE\n"
     ]
    }
   ],
   "source": [
    "x = open('Downloads/myfile.txt')\n",
    "for line in x:\n",
    "    print( line.strip() )\n",
    "x.close()"
   ]
  },
  {
   "cell_type": "code",
   "execution_count": 32,
   "metadata": {},
   "outputs": [
    {
     "name": "stdout",
     "output_type": "stream",
     "text": [
      "<class 'str'>\n",
      "text at line1: CSF 2113\n",
      "t\n"
     ]
    }
   ],
   "source": [
    "file = open(\"Downloads/myfile.txt\")\n",
    "lines = file.read() # type of lines variable is str\n",
    "print( type(lines))\n",
    "print( lines[0:25]) #text at line1: CSF 2113\\nt\n"
   ]
  },
  {
   "cell_type": "code",
   "execution_count": 36,
   "metadata": {},
   "outputs": [
    {
     "name": "stdout",
     "output_type": "stream",
     "text": [
      "text at line1: CSF 2113\n",
      "text at line2: Programing for information security\n",
      "text at line3: SWC\n",
      "text at line4: Sharjah\n",
      "text at line5: UAE\n"
     ]
    }
   ],
   "source": [
    "s = 'text at line1: CSF 2113\\ntext at line2: Programing for information security\\ntext at line3: SWC\\ntext at line4: Sharjah\\ntext at line5: UAE'\n",
    "print(s)"
   ]
  },
  {
   "cell_type": "code",
   "execution_count": 38,
   "metadata": {},
   "outputs": [
    {
     "name": "stdout",
     "output_type": "stream",
     "text": [
      "Done\n"
     ]
    }
   ],
   "source": [
    "file1 = open(\"mytxt.txt\",\"w\")\n",
    "file1.write(\"Hamad\\n H0000000\\n HCT\\n\")\n",
    "file1.close()\n",
    "print(\"Done\")"
   ]
  },
  {
   "cell_type": "code",
   "execution_count": 42,
   "metadata": {},
   "outputs": [
    {
     "name": "stdout",
     "output_type": "stream",
     "text": [
      "Done\n"
     ]
    }
   ],
   "source": [
    "file1 = open(\"mytxt.txt\",\"w\")\n",
    "file1.write(\"Hamad\\n\") \n",
    "file1.write(\"H0000000\\n\")\n",
    "file1.write(\"HCT\\n\")\n",
    "\n",
    "file1.close()\n",
    "print(\"Done\")"
   ]
  },
  {
   "cell_type": "code",
   "execution_count": 43,
   "metadata": {
    "pycharm": {
     "name": "#%%\n"
    }
   },
   "outputs": [
    {
     "name": "stdout",
     "output_type": "stream",
     "text": [
      "Manea Mohamed \n",
      "H00329878\n",
      "ADMC\n"
     ]
    }
   ],
   "source": [
    "x = open('lab9.txt', 'a')\n",
    "x.write(\"Manea Mohamed \\nH00329878\\nADMC\")\n",
    "x.close()\n",
    "\n",
    "print(open('lab9.txt').read())\n",
    "\n"
   ]
  }
 ],
 "metadata": {
  "kernelspec": {
   "display_name": "Python 3",
   "language": "python",
   "name": "python3"
  },
  "language_info": {
   "codemirror_mode": {
    "name": "ipython",
    "version": 3
   },
   "file_extension": ".py",
   "mimetype": "text/x-python",
   "name": "python",
   "nbconvert_exporter": "python",
   "pygments_lexer": "ipython3",
   "version": "3.8.5"
  }
 },
 "nbformat": 4,
 "nbformat_minor": 4
}
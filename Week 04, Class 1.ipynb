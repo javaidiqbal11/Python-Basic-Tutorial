{
 "cells": [
  {
   "cell_type": "markdown",
   "metadata": {},
   "source": [
    "## Functions"
   ]
  },
  {
   "cell_type": "code",
   "execution_count": 2,
   "metadata": {},
   "outputs": [
    {
     "name": "stdout",
     "output_type": "stream",
     "text": [
      "*\n",
      "**\n",
      "***\n",
      "****\n",
      "*****\n",
      "******\n",
      "*\n",
      "**\n",
      "***\n",
      "****\n",
      "*****\n",
      "******\n"
     ]
    }
   ],
   "source": [
    "#Step 1\n",
    "print(\"*\")\n",
    "print(\"**\")\n",
    "print(\"***\")\n",
    "print(\"****\")\n",
    "print(\"*****\")\n",
    "print(\"******\")\n"
   ]
  },
  {
   "cell_type": "code",
   "execution_count": 3,
   "metadata": {},
   "outputs": [
    {
     "name": "stdout",
     "output_type": "stream",
     "text": [
      "*\n",
      "**\n",
      "***\n",
      "****\n",
      "*****\n",
      "******\n"
     ]
    }
   ],
   "source": [
    "#step 2\n",
    "def printTriangle():\n",
    "    print(\"*\") #1\n",
    "    print(\"**\") #2\n",
    "    print(\"***\") #3\n",
    "    print(\"****\") #4\n",
    "    print(\"*****\") #5\n",
    "    print(\"******\") #6\n",
    "\n",
    "printTriangle()"
   ]
  },
  {
   "cell_type": "code",
   "execution_count": 4,
   "metadata": {
    "scrolled": true
   },
   "outputs": [
    {
     "name": "stdout",
     "output_type": "stream",
     "text": [
      "#\n",
      "##\n",
      "###\n",
      "####\n",
      "#####\n",
      "######\n",
      "#######\n",
      "########\n",
      "#########\n",
      "##########\n",
      "###########\n",
      "############\n",
      "#############\n",
      "##############\n"
     ]
    }
   ],
   "source": [
    "char = '#'\n",
    "end = 15\n",
    "for i in range(1,end):\n",
    "    for j in range(1, i+1):\n",
    "        print(char, end='')\n",
    "    print() #print('', end='\\n')    "
   ]
  },
  {
   "cell_type": "code",
   "execution_count": 5,
   "metadata": {},
   "outputs": [
    {
     "name": "stdout",
     "output_type": "stream",
     "text": [
      "#\n",
      "##\n",
      "###\n",
      "####\n",
      "#####\n"
     ]
    }
   ],
   "source": [
    "def pt():\n",
    "    char = '#'\n",
    "    end = 6\n",
    "    for i in range(1,end):\n",
    "        for j in range(1, i+1):\n",
    "            print(char, end='')\n",
    "        print() #print('', end='\\n')   \n",
    "        \n",
    "pt()\n",
    "#pt('#', 6)"
   ]
  },
  {
   "cell_type": "code",
   "execution_count": 6,
   "metadata": {},
   "outputs": [
    {
     "name": "stdout",
     "output_type": "stream",
     "text": [
      "@\n",
      "@@\n",
      "@@@\n",
      "@@@@\n",
      "@@@@@\n",
      "@@@@@@\n",
      "@@@@@@@\n",
      "@@@@@@@@\n",
      "@@@@@@@@@\n"
     ]
    }
   ],
   "source": [
    "def pt(char, end):\n",
    "    for i in range(1,end):\n",
    "        for j in range(1, i+1):\n",
    "            print(char, end='')\n",
    "        print() #print('', end='\\n')   \n",
    "        \n",
    "pt('@', 10)"
   ]
  },
  {
   "cell_type": "code",
   "execution_count": 7,
   "metadata": {},
   "outputs": [
    {
     "name": "stdout",
     "output_type": "stream",
     "text": [
      "@@@@@\n",
      "@@@@@@\n",
      "@@@@@@@\n",
      "@@@@@@@@\n",
      "@@@@@@@@@\n",
      "None\n"
     ]
    }
   ],
   "source": [
    "def pt(char, start, end):\n",
    "    for i in range(start, end):\n",
    "        print(char*i)\n",
    "                \n",
    "x = pt('@', 5, 10)\n",
    "print(x)"
   ]
  },
  {
   "cell_type": "markdown",
   "metadata": {},
   "source": [
    "# Lab 4.2"
   ]
  },
  {
   "cell_type": "code",
   "execution_count": 8,
   "metadata": {},
   "outputs": [
    {
     "name": "stdout",
     "output_type": "stream",
     "text": [
      "The sum is 7\n"
     ]
    }
   ],
   "source": [
    "def addition(x, y):\n",
    "    s =0\n",
    "    for i in range(x,y):\n",
    "        s=s+i\n",
    "    return s    \n",
    "\n",
    "a = int(input(\"Enter lower number: \"))\n",
    "b = int(input(\"Enter upper number: \"))\n",
    "print(\"The sum is\", addition(a,b))"
   ]
  },
  {
   "cell_type": "code",
   "execution_count": 17,
   "metadata": {},
   "outputs": [
    {
     "name": "stdout",
     "output_type": "stream",
     "text": [
      "Enter lower number: 1\n",
      "Enter upper number: w\n"
     ]
    },
    {
     "ename": "ValueError",
     "evalue": "could not convert string to float: 'w'",
     "output_type": "error",
     "traceback": [
      "\u001B[1;31m---------------------------------------------------------------------------\u001B[0m",
      "\u001B[1;31mValueError\u001B[0m                                Traceback (most recent call last)",
      "\u001B[1;32m<ipython-input-17-dfb5648c214d>\u001B[0m in \u001B[0;36m<module>\u001B[1;34m\u001B[0m\n\u001B[0;32m      4\u001B[0m     \u001B[1;32mreturn\u001B[0m \u001B[0ma\u001B[0m\u001B[1;33m+\u001B[0m\u001B[0mb\u001B[0m\u001B[1;33m\u001B[0m\u001B[1;33m\u001B[0m\u001B[0m\n\u001B[0;32m      5\u001B[0m \u001B[1;33m\u001B[0m\u001B[0m\n\u001B[1;32m----> 6\u001B[1;33m \u001B[0mprint\u001B[0m\u001B[1;33m(\u001B[0m\u001B[0maddition\u001B[0m\u001B[1;33m(\u001B[0m\u001B[1;33m)\u001B[0m\u001B[1;33m)\u001B[0m\u001B[1;33m\u001B[0m\u001B[1;33m\u001B[0m\u001B[0m\n\u001B[0m",
      "\u001B[1;32m<ipython-input-17-dfb5648c214d>\u001B[0m in \u001B[0;36maddition\u001B[1;34m()\u001B[0m\n\u001B[0;32m      1\u001B[0m \u001B[1;32mdef\u001B[0m \u001B[0maddition\u001B[0m\u001B[1;33m(\u001B[0m\u001B[1;33m)\u001B[0m\u001B[1;33m:\u001B[0m\u001B[1;33m\u001B[0m\u001B[1;33m\u001B[0m\u001B[0m\n\u001B[0;32m      2\u001B[0m     \u001B[0ma\u001B[0m \u001B[1;33m=\u001B[0m \u001B[0mfloat\u001B[0m\u001B[1;33m(\u001B[0m\u001B[0minput\u001B[0m\u001B[1;33m(\u001B[0m\u001B[1;34m\"Enter lower number: \"\u001B[0m\u001B[1;33m)\u001B[0m\u001B[1;33m)\u001B[0m\u001B[1;33m\u001B[0m\u001B[1;33m\u001B[0m\u001B[0m\n\u001B[1;32m----> 3\u001B[1;33m     \u001B[0mb\u001B[0m \u001B[1;33m=\u001B[0m \u001B[0mfloat\u001B[0m\u001B[1;33m(\u001B[0m\u001B[0minput\u001B[0m\u001B[1;33m(\u001B[0m\u001B[1;34m\"Enter upper number: \"\u001B[0m\u001B[1;33m)\u001B[0m\u001B[1;33m)\u001B[0m\u001B[1;33m\u001B[0m\u001B[1;33m\u001B[0m\u001B[0m\n\u001B[0m\u001B[0;32m      4\u001B[0m     \u001B[1;32mreturn\u001B[0m \u001B[0ma\u001B[0m\u001B[1;33m+\u001B[0m\u001B[0mb\u001B[0m\u001B[1;33m\u001B[0m\u001B[1;33m\u001B[0m\u001B[0m\n\u001B[0;32m      5\u001B[0m \u001B[1;33m\u001B[0m\u001B[0m\n",
      "\u001B[1;31mValueError\u001B[0m: could not convert string to float: 'w'"
     ]
    }
   ],
   "source": [
    "def addition():\n",
    "    a = float(input(\"Enter lower number: \"))\n",
    "    b = float(input(\"Enter upper number: \"))\n",
    "    return a+b\n",
    "\n",
    "print(addition())"
   ]
  },
  {
   "cell_type": "code",
   "execution_count": 14,
   "metadata": {},
   "outputs": [
    {
     "name": "stdout",
     "output_type": "stream",
     "text": [
      "Enter lower number: 4\n",
      "Enter upper number: 3\n",
      "7.0\n"
     ]
    }
   ],
   "source": [
    "def addition():\n",
    "    a = float(input(\"Enter lower number: \"))\n",
    "    b = float(input(\"Enter upper number: \"))\n",
    "    print(a+b) \n",
    "\n",
    "addition()"
   ]
  },
  {
   "cell_type": "code",
   "execution_count": 20,
   "metadata": {},
   "outputs": [
    {
     "name": "stdout",
     "output_type": "stream",
     "text": [
      "Enter lower number: 1\n",
      "Enter upper number: 5\n",
      "The avg is 2.5\n"
     ]
    }
   ],
   "source": [
    "def avg(x, y):\n",
    "    s=0\n",
    "    c=0\n",
    "    for i in range(x,y):\n",
    "        c=c+1\n",
    "        s=s+i\n",
    "    a = s/c\n",
    "    return a    \n",
    "\n",
    "a = int(input(\"Enter lower number: \"))\n",
    "b = int(input(\"Enter upper number: \"))\n",
    "print(\"The avg is\", avg(a,b))"
   ]
  },
  {
   "cell_type": "code",
   "execution_count": null,
   "metadata": {},
   "outputs": [],
   "source": [
    "# (1+2+3)/3\n",
    "#(1+2+3+4)/4 = 10/4"
   ]
  },
  {
   "cell_type": "code",
   "execution_count": 21,
   "metadata": {},
   "outputs": [
    {
     "data": {
      "text/plain": [
       "[1, 2, 3, 1, 2, 3]"
      ]
     },
     "execution_count": 21,
     "metadata": {},
     "output_type": "execute_result"
    }
   ],
   "source": [
    "[1,2,3]*2"
   ]
  },
  {
   "cell_type": "code",
   "execution_count": 22,
   "metadata": {},
   "outputs": [
    {
     "data": {
      "text/plain": [
       "'AnasAnas'"
      ]
     },
     "execution_count": 22,
     "metadata": {},
     "output_type": "execute_result"
    }
   ],
   "source": [
    "\"Anas\"*2"
   ]
  },
  {
   "cell_type": "code",
   "execution_count": 23,
   "metadata": {},
   "outputs": [
    {
     "name": "stdout",
     "output_type": "stream",
     "text": [
      "[1, 2, 3, 1, 2, 3]\n"
     ]
    }
   ],
   "source": [
    "def dup(x):\n",
    "    return x*2\n",
    "\n",
    "print (dup([1,2,3]))"
   ]
  },
  {
   "cell_type": "code",
   "execution_count": 24,
   "metadata": {},
   "outputs": [
    {
     "name": "stdout",
     "output_type": "stream",
     "text": [
      "[1, 2, 3, 1, 2, 3]\n",
      "['Ali', 'Mohamed', 'Ahmed', 'Ali', 'Mohamed', 'Ahmed']\n"
     ]
    }
   ],
   "source": [
    "def myfunction(mylist):\n",
    "     return mylist*2\n",
    "\n",
    "\n",
    "\n",
    "print(myfunction([1,2,3]))\n",
    "print(myfunction([\"Ali\",\"Mohamed\",\"Ahmed\"]))"
   ]
  },
  {
   "cell_type": "code",
   "execution_count": 25,
   "metadata": {},
   "outputs": [
    {
     "name": "stdout",
     "output_type": "stream",
     "text": [
      "[2, 4, 6]\n",
      "['AliAli', 'MohamedMohamed', 'AhmedAhmed']\n"
     ]
    }
   ],
   "source": [
    "def myfunction(mylist):\n",
    "    for i in range(0,len(mylist)):\n",
    "        mylist[i]=mylist[i]*2\n",
    "    return mylist\n",
    "\n",
    "print(myfunction([1,2,3]))\n",
    "print(myfunction(['Ali','Mohamed','Ahmed']))"
   ]
  },
  {
   "cell_type": "code",
   "execution_count": 27,
   "metadata": {},
   "outputs": [
    {
     "name": "stdout",
     "output_type": "stream",
     "text": [
      "[1, 3, 4, 8, 2.6666666666666665]\n"
     ]
    }
   ],
   "source": [
    "def myfunction(xs):\n",
    "    s = sum(xs)\n",
    "    avg = s/len(xs)\n",
    "    xs.append(s)\n",
    "    xs.append(avg)\n",
    "    return xs\n",
    "\n",
    "print(myfunction([1,3,4]))    "
   ]
  },
  {
   "cell_type": "code",
   "execution_count": 29,
   "metadata": {
    "pycharm": {
     "name": "#%%\n"
    }
   },
   "outputs": [
    {
     "name": "stdout",
     "output_type": "stream",
     "text": [
      "[1, 3, 4, 8, 2.6666666666666665]\n"
     ]
    }
   ],
   "source": [
    "def myfunction(xs):\n",
    "    s=0\n",
    "    for i in xs:\n",
    "        s=s+i\n",
    "    avg = s/len(xs)\n",
    "    xs.append(s)\n",
    "    xs.append(avg)\n",
    "    return xs\n",
    "\n",
    "print(myfunction([1,3,4]))\n",
    "\n"
   ]
  }
 ],
 "metadata": {
  "kernelspec": {
   "display_name": "Python 3",
   "language": "python",
   "name": "python3"
  },
  "language_info": {
   "codemirror_mode": {
    "name": "ipython",
    "version": 3
   },
   "file_extension": ".py",
   "mimetype": "text/x-python",
   "name": "python",
   "nbconvert_exporter": "python",
   "pygments_lexer": "ipython3",
   "version": "3.8.5"
  }
 },
 "nbformat": 4,
 "nbformat_minor": 4
}
{
 "cells": [
  {
   "cell_type": "markdown",
   "metadata": {},
   "source": [
    "## Week 1, Class 1 Code"
   ]
  },
  {
   "cell_type": "code",
   "execution_count": 1,
   "metadata": {},
   "outputs": [
    {
     "name": "stdout",
     "output_type": "stream",
     "text": [
      "Hello World!\n",
      "10 times 4 is 40\n"
     ]
    }
   ],
   "source": [
    "print(\"Hello World!\")\n",
    "x = 10\n",
    "res = x * 4\n",
    "print(x, \"times 4 is\", res)"
   ]
  },
  {
   "cell_type": "code",
   "execution_count": 2,
   "metadata": {},
   "outputs": [
    {
     "name": "stdout",
     "output_type": "stream",
     "text": [
      "Welcome Mr. Javaid\n",
      "Have a nice day Mr. Javaid\n"
     ]
    }
   ],
   "source": [
    "name = input(\"Enter your name:\")\n",
    "print(\"Welcome Mr.\", name)\n",
    "print(\"Have a nice day Mr.\", name)"
   ]
  },
  {
   "cell_type": "code",
   "execution_count": 3,
   "metadata": {},
   "outputs": [
    {
     "name": "stdout",
     "output_type": "stream",
     "text": [
      "<class 'str'>\n"
     ]
    }
   ],
   "source": [
    "print(   type(name)    ) "
   ]
  },
  {
   "cell_type": "code",
   "execution_count": 4,
   "metadata": {},
   "outputs": [
    {
     "name": "stdout",
     "output_type": "stream",
     "text": [
      "4.5\n",
      "4\n"
     ]
    }
   ],
   "source": [
    "x = 9/2\n",
    "print(x)\n",
    "\n",
    "x = 9//2\n",
    "print(x)"
   ]
  },
  {
   "cell_type": "code",
   "execution_count": 5,
   "metadata": {},
   "outputs": [
    {
     "name": "stdout",
     "output_type": "stream",
     "text": [
      "1\n"
     ]
    }
   ],
   "source": [
    "x = 10%3\n",
    "print(x)"
   ]
  },
  {
   "cell_type": "code",
   "execution_count": 6,
   "metadata": {},
   "outputs": [
    {
     "name": "stdout",
     "output_type": "stream",
     "text": [
      "3.0\n",
      "3.0\n"
     ]
    }
   ],
   "source": [
    "import math as m\n",
    "\n",
    "print(m.sqrt(9))\n",
    "\n",
    "x = 9 ** (1/2)\n",
    "print(x)"
   ]
  },
  {
   "cell_type": "code",
   "execution_count": 7,
   "metadata": {},
   "outputs": [
    {
     "name": "stdout",
     "output_type": "stream",
     "text": [
      "101\n",
      "5\n"
     ]
    }
   ],
   "source": [
    "x = max(100, 5, 101, 8, 10, 78)\n",
    "print(x)\n",
    "\n",
    "x = min(100, 5, 101, 8, 10, 78)\n",
    "print(x)"
   ]
  },
  {
   "cell_type": "code",
   "execution_count": 8,
   "metadata": {},
   "outputs": [
    {
     "name": "stdout",
     "output_type": "stream",
     "text": [
      "<class 'str'>\n",
      "<class 'int'>\n",
      "<class 'float'>\n",
      "<class 'bool'>\n"
     ]
    }
   ],
   "source": [
    "x = \"hello\"\n",
    "print( type(x) )\n",
    "\n",
    "x = 8\n",
    "print( type(x) )\n",
    "\n",
    "x = 8.0\n",
    "print( type(x) )\n",
    "\n",
    "x = True    #False\n",
    "print( type(x) )\n"
   ]
  },
  {
   "cell_type": "code",
   "execution_count": 9,
   "metadata": {},
   "outputs": [
    {
     "name": "stdout",
     "output_type": "stream",
     "text": [
      "True\n",
      "False\n",
      "True\n",
      "False\n",
      "True\n"
     ]
    }
   ],
   "source": [
    "b = True\n",
    "print(b)\n",
    "\n",
    "b = False\n",
    "print(b)\n",
    "\n",
    "b = 2==2  #True\n",
    "print(b)\n",
    "\n",
    "b = 2!=2  #False\n",
    "print(b)\n",
    "\n",
    "b = False\n",
    "print( not(b) )"
   ]
  },
  {
   "cell_type": "markdown",
   "metadata": {},
   "source": [
    "## Week 1, Class 2"
   ]
  },
  {
   "cell_type": "code",
   "execution_count": 10,
   "metadata": {},
   "outputs": [
    {
     "name": "stdout",
     "output_type": "stream",
     "text": [
      "[100, 3.2, 'Hammad', 23]\n",
      "<class 'list'>\n",
      "Length of list xs is 4\n"
     ]
    }
   ],
   "source": [
    "xs = [ 100, 3.2, 'Hammad', 23 ] #List is collection of objects\n",
    "\n",
    "print(xs)\n",
    "print( type(xs)  )\n",
    "print( 'Length of list xs is', len(xs)  )\n"
   ]
  },
  {
   "cell_type": "code",
   "execution_count": 11,
   "metadata": {},
   "outputs": [
    {
     "name": "stdout",
     "output_type": "stream",
     "text": [
      "Names are ['Ali', 'Hammad', 'Saad', 'Zayed']\n",
      "Ages are [20, 21, 20, 19]\n"
     ]
    }
   ],
   "source": [
    "#variable names is like this       car -> cars\n",
    "name=\"Hammad\"\n",
    "age = 18\n",
    "\n",
    "#In Computer Science we start counting from 0\n",
    "#          0        1       2        3\n",
    "         # 1,       2,      3,       4 \n",
    "names = ['Ali', 'Hammad', 'Saad', 'Zayed' ] \n",
    "\n",
    "ages = [20, 21, 20, 19]\n",
    "print(\"Names are\", names)\n",
    "print(\"Ages are\", ages)\n"
   ]
  },
  {
   "cell_type": "code",
   "execution_count": 12,
   "metadata": {},
   "outputs": [
    {
     "name": "stdout",
     "output_type": "stream",
     "text": [
      "['Ali', 'Hammad', 'Saad', 'Zayed']\n",
      "Ali\n",
      "Hammad\n",
      "Saad\n",
      "Zayed\n"
     ]
    }
   ],
   "source": [
    "#In Computer Science we start counting from 0\n",
    "        #  0        1       2        3\n",
    "        # -4       -3      -2       -1\n",
    "names = ['Ali', 'Hammad', 'Saad', 'Zayed' ] \n",
    "\n",
    "print(names)\n",
    "\n",
    "print( names[0]  )\n",
    "print( names[1]  )\n",
    "print( names[2]  )\n",
    "print( names[3]  )\n"
   ]
  },
  {
   "cell_type": "code",
   "execution_count": 14,
   "metadata": {},
   "outputs": [
    {
     "name": "stdout",
     "output_type": "stream",
     "text": [
      "['Ali', 'Hammad', 'Saad', 'Zayed', 'Fares', 'Mohammed', 'Arif']\n",
      "Zayed\n",
      "['Hammad', 'Saad', 'Zayed', 'Fares']\n",
      "['Zayed', 'Fares', 'Mohammed', 'Arif']\n",
      "['Ali', 'Hammad', 'Saad', 'Zayed']\n",
      "['Ali', 'Hammad', 'Saad', 'Zayed', 'Fares', 'Mohammed', 'Arif']\n",
      "['Ali', 'Hammad', 'Saad', 'Zayed', 'Fares', 'Mohammed', 'Arif']\n",
      "['Ali', 'Saad', 'Fares', 'Arif']\n"
     ]
    }
   ],
   "source": [
    "names = ['Ali', 'Hammad', 'Saad', 'Zayed', 'Fares', 'Mohammed', 'Arif' ] \n",
    "\n",
    "print(names)# prints all the list\n",
    "print(names[3])\n",
    "\n",
    "#names[start:end]\n",
    "print( names[1:5]  )  #1,2,3,4\n",
    "\n",
    "#names[start:], since end is not mentioned, it will go upto end\n",
    "print( names[3:]  )\n",
    "\n",
    "#names[:4]\n",
    "print( names[:4]  )\n",
    "\n",
    "#names[:], prints the whole list = names\n",
    "print( names[:]  )\n",
    "\n",
    "#names[::1] step is 1\n",
    "print ( names[::1]  )\n",
    "\n",
    "#names[::2] step is 2\n",
    "print ( names[::2]  )\n",
    "\n",
    "\n",
    "#names[1:100] start=1, end=100\n",
    "print ( names[1:100]  ) # 100 is end value, that python tries reach but no error\n",
    "\n",
    "names[100] # 100 is a position/index that does not exist so error"
   ]
  },
  {
   "cell_type": "code",
   "execution_count": 15,
   "metadata": {},
   "outputs": [
    {
     "name": "stdout",
     "output_type": "stream",
     "text": [
      "['Arif', 'Mohammed', 'Fares', 'Zayed', 'Saad', 'Hammad', 'Ali']\n"
     ]
    }
   ],
   "source": [
    "names = ['Ali', 'Hammad', 'Saad', 'Zayed', 'Fares', 'Mohammed', 'Arif' ] \n",
    "\n",
    "print( names[::-1]  )\n",
    "\n",
    "# standing at 0: 0 + (-1) = -1 last index\n",
    "# -1 -1 = -2 second last index\n",
    "# -2 -1 = -3 third last index\n"
   ]
  },
  {
   "cell_type": "code",
   "execution_count": 16,
   "metadata": {},
   "outputs": [
    {
     "name": "stdout",
     "output_type": "stream",
     "text": [
      "['Alhia', 'Hammad', 'Saad', 'Zayed', 'Fares', 'Mohammed', 'Arif']\n",
      "['Alhia', 'Hammad', 'Saad', 'Zayed', 'Fares', 'Mohammed', 'Arif', 'Humayoun']\n"
     ]
    }
   ],
   "source": [
    "names = ['Ali', 'Hammad', 'Saad', 'Zayed', 'Fares', 'Mohammed', 'Arif' ] \n",
    "\n",
    "names[0] = 'Alhia'\n",
    "print(names)\n",
    "names.append( 'Humayoun' )\n",
    "print(names)"
   ]
  },
  {
   "cell_type": "code",
   "execution_count": 17,
   "metadata": {},
   "outputs": [
    {
     "name": "stdout",
     "output_type": "stream",
     "text": [
      "['Ali', 'Hammad', 'Saad', 'Zayed', 'Fares', 'Mohammed', 'Arif']\n",
      "['Ali', 'Hammad', 'Saad', 'Zayed', 'Fares', 'Mohammed', 'Arif', 'Alhai']\n",
      "None\n"
     ]
    }
   ],
   "source": [
    "names = ['Ali', 'Hammad', 'Saad', 'Zayed', 'Fares', 'Mohammed', 'Arif' ] \n",
    "print(names)\n",
    "\n",
    "x = names.append('Alhai') #CIS 1403: Java,C#,C,C++: void, Python:None\n",
    "print(names)\n",
    "print(x)"
   ]
  },
  {
   "cell_type": "code",
   "execution_count": 33,
   "metadata": {},
   "outputs": [
    {
     "name": "stdout",
     "output_type": "stream",
     "text": [
      "['Ali', 'Hammad', 'Saad', 'Zayed', 'Fares', 'Mohammed', 'Arif']\n",
      "['Ali', 'Hammad', 'Saad', 'Zayed', 'Fares', 'Mohammed', 'Arif', 100, 'a', 'name', 3.145, [12, 13, 52, 14]]\n",
      "[12, 13, 52, 14]\n"
     ]
    }
   ],
   "source": [
    "names = ['Ali', 'Hammad', 'Saad', 'Zayed', 'Fares', 'Mohammed', 'Arif' ] \n",
    "print(names)\n",
    "#Using append you can add anything (any object)\n",
    "# any object means int, float, string, list, tuple, dictionary\n",
    "names.append(100)\n",
    "names.append('a')\n",
    "names.append('name')\n",
    "names.append(3.145)\n",
    "names.append( [12,13,52,14] )\n",
    "print(names)\n",
    "\n",
    "print(names[11])"
   ]
  },
  {
   "cell_type": "code",
   "execution_count": 36,
   "metadata": {},
   "outputs": [
    {
     "name": "stdout",
     "output_type": "stream",
     "text": [
      "[1, 2.2, 4, 'ali', 44, 55, 'abc']\n",
      "[1, 2.2, 4, 'ali', 44, 55, 'abc', 44, 55, 'abc']\n",
      "None\n"
     ]
    }
   ],
   "source": [
    "#append() adds an object as an element to the list\n",
    "#extend() only adds a list object\n",
    "\n",
    "xs = [1, 2.2, 4, 'ali']\n",
    "xs.extend( [44,55,'abc'] ) # int is not a list\n",
    "# xs and the list[44,55,'abc'] will be merged\n",
    "print(xs)\n",
    "#imagine we have two sections CSF2113 at the same time with \n",
    "#4 members in class 1 and 3 members in class 2\n",
    "# we merge class 2 into class 1\n",
    "#xs is class 1\n",
    "#[44,55,'abc'] is class 2\n",
    "x = xs.extend( [44,55,'abc'] )\n",
    "# extend also deos not return any value: None\n",
    "print(xs)\n",
    "print(x)\n"
   ]
  },
  {
   "cell_type": "code",
   "execution_count": 38,
   "metadata": {},
   "outputs": [
    {
     "name": "stdout",
     "output_type": "stream",
     "text": [
      "[1, 2, 3, 100, 99, 98]\n"
     ]
    }
   ],
   "source": [
    "x = [1,2,3]\n",
    "y = [100,99,98]\n",
    "x = x + y #[1,2,3]+[100,99,98]=[1,2,3,100,99,98]\n",
    "# x.extend(y) is equal to x=x+y\n",
    "print(x)"
   ]
  },
  {
   "cell_type": "markdown",
   "metadata": {},
   "source": [
    "## Lab 1.1"
   ]
  },
  {
   "cell_type": "code",
   "execution_count": 1,
   "metadata": {},
   "outputs": [
    {
     "name": "stdout",
     "output_type": "stream",
     "text": [
      "Welcome javaid Have a nice day!\n"
     ]
    }
   ],
   "source": [
    "#3.1\n",
    "name = input('Enter your name: ')\n",
    "print(\"Welcome\", name, \"Have a nice day!\")"
   ]
  },
  {
   "cell_type": "code",
   "execution_count": 3,
   "metadata": {},
   "outputs": [
    {
     "name": "stdout",
     "output_type": "stream",
     "text": [
      "Welcome Mr. javaid iqbal . You are 25 years old. Next year you will be 26 years old.\n"
     ]
    }
   ],
   "source": [
    "#3.2\n",
    "fname = input(\"Enter your first name: \")\n",
    "lname = input(\"Enter your last name: \")\n",
    "age = int( input(\"Enter your age\") )\n",
    "print(\"Welcome Mr.\", fname, lname,\".\",\"You are\", age, \"years old. Next year you will be\", age+1,\"years old.\")"
   ]
  },
  {
   "cell_type": "code",
   "execution_count": 42,
   "metadata": {
    "pycharm": {
     "name": "#%%\n"
    }
   },
   "outputs": [
    {
     "name": "stdout",
     "output_type": "stream",
     "text": [
      "volume is 523.5983333333332\n"
     ]
    }
   ],
   "source": [
    "#3.6\n",
    "r=5\n",
    "pi=3.14159\n",
    "volume = 4/3*pi*r**3\n",
    "print(\"volume is\", volume)\n"
   ]
  }
 ],
 "metadata": {
  "kernelspec": {
   "display_name": "Python 3",
   "language": "python",
   "name": "python3"
  },
  "language_info": {
   "codemirror_mode": {
    "name": "ipython",
    "version": 3
   },
   "file_extension": ".py",
   "mimetype": "text/x-python",
   "name": "python",
   "nbconvert_exporter": "python",
   "pygments_lexer": "ipython3",
   "version": "3.6.5"
  }
 },
 "nbformat": 4,
 "nbformat_minor": 2
}
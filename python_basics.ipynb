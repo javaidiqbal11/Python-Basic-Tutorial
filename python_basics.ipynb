{
 "cells": [
  {
   "cell_type": "code",
   "execution_count": 1,
   "metadata": {
    "collapsed": true
   },
   "outputs": [
    {
     "name": "stdout",
     "output_type": "stream",
     "text": [
      "Hello World\n"
     ]
    }
   ],
   "source": [
    "print(\"Hello World\")"
   ]
  },
  {
   "cell_type": "markdown",
   "source": [
    "### Variables"
   ],
   "metadata": {
    "collapsed": false
   }
  },
  {
   "cell_type": "code",
   "execution_count": 3,
   "outputs": [
    {
     "name": "stdout",
     "output_type": "stream",
     "text": [
      "Your name is: Humayl\n",
      "Your number is: 198\n",
      "Your age is: 1\n",
      "Your marks is: 80.5\n"
     ]
    }
   ],
   "source": [
    "name = \"Humayl\"\n",
    "num = 198\n",
    "age = 1\n",
    "marks = 80.50\n",
    "\n",
    "print(\"Your name is:\", name)\n",
    "print(\"Your number is:\", num)\n",
    "print(\"Your age is:\", age)\n",
    "print(\"Your marks is:\", marks)"
   ],
   "metadata": {
    "collapsed": false
   }
  },
  {
   "cell_type": "code",
   "execution_count": 5,
   "outputs": [
    {
     "name": "stdout",
     "output_type": "stream",
     "text": [
      "A B C D E D E F G F I\n"
     ]
    }
   ],
   "source": [
    "# valid variable names (case sensitive variable names)\n",
    "name = \"A\"\n",
    "Name = \"B\"\n",
    "naMe = \"C\"\n",
    "NAME = \"D\"\n",
    "n_a_m_e = \"E\"\n",
    "_name = \"F\"\n",
    "name_ = \"G\"\n",
    "_name_ = \"H\"\n",
    "na56me = \"I\"\n",
    "\n",
    "print(name,Name,naMe,NAME,n_a_m_e, NAME, n_a_m_e, _name, name_,_name, na56me)"
   ],
   "metadata": {
    "collapsed": false
   }
  },
  {
   "cell_type": "code",
   "execution_count": 6,
   "outputs": [
    {
     "name": "stdout",
     "output_type": "stream",
     "text": [
      "10\n",
      "10\n",
      "10\n"
     ]
    }
   ],
   "source": [
    "# Assigning single value to multiple variables\n",
    "x=y=z= 10\n",
    "print(x)\n",
    "print(y)\n",
    "print(z)"
   ],
   "metadata": {
    "collapsed": false
   }
  },
  {
   "cell_type": "code",
   "execution_count": 7,
   "outputs": [
    {
     "name": "stdout",
     "output_type": "stream",
     "text": [
      "5\n",
      "10\n",
      "15\n"
     ]
    }
   ],
   "source": [
    "# Assigning multiple values to multiple variables:\n",
    "a,b,c=5,10,15\n",
    "print(a)\n",
    "print(b)\n",
    "print(c)"
   ],
   "metadata": {
    "collapsed": false
   }
  },
  {
   "cell_type": "code",
   "execution_count": 8,
   "outputs": [
    {
     "name": "stdout",
     "output_type": "stream",
     "text": [
      "<class 'int'>\n",
      "10000000000000000000000000000000000000000001\n"
     ]
    }
   ],
   "source": [
    "# A Python program to display that we can store\n",
    "# large numbers in Python\n",
    "\n",
    "a = 10000000000000000000000000000000000000000000\n",
    "a = a + 1\n",
    "print(type(a))\n",
    "print (a)"
   ],
   "metadata": {
    "collapsed": false
   }
  },
  {
   "cell_type": "code",
   "execution_count": 9,
   "outputs": [
    {
     "name": "stdout",
     "output_type": "stream",
     "text": [
      "5\n",
      "5\n"
     ]
    }
   ],
   "source": [
    "# Printing Single Variable\n",
    "a = 5\n",
    "print(a)\n",
    "print((a))"
   ],
   "metadata": {
    "collapsed": false
   }
  },
  {
   "cell_type": "code",
   "execution_count": 10,
   "outputs": [
    {
     "name": "stdout",
     "output_type": "stream",
     "text": [
      "5 6\n",
      "1 2 3 4 5 6 7 8\n"
     ]
    }
   ],
   "source": [
    "# Printing Multiple Variables\n",
    "a = 5\n",
    "b = 6\n",
    "# printing multiple variables\n",
    "print(a,b)\n",
    "# separate the variables by the comma\n",
    "print(1, 2, 3, 4, 5, 6, 7, 8)"
   ],
   "metadata": {
    "collapsed": false
   }
  }
 ],
 "metadata": {
  "kernelspec": {
   "display_name": "Python 3",
   "language": "python",
   "name": "python3"
  },
  "language_info": {
   "codemirror_mode": {
    "name": "ipython",
    "version": 2
   },
   "file_extension": ".py",
   "mimetype": "text/x-python",
   "name": "python",
   "nbconvert_exporter": "python",
   "pygments_lexer": "ipython2",
   "version": "2.7.6"
  }
 },
 "nbformat": 4,
 "nbformat_minor": 0
}

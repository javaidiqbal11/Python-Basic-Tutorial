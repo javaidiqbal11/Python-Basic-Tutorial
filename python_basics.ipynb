{
 "cells": [
  {
   "cell_type": "code",
   "execution_count": 1,
   "metadata": {
    "collapsed": true
   },
   "outputs": [
    {
     "name": "stdout",
     "output_type": "stream",
     "text": [
      "Hello World\n"
     ]
    }
   ],
   "source": [
    "print(\"Hello World\")"
   ]
  },
  {
   "cell_type": "markdown",
   "source": [
    "### Variables"
   ],
   "metadata": {
    "collapsed": false
   }
  },
  {
   "cell_type": "code",
   "execution_count": 3,
   "outputs": [
    {
     "name": "stdout",
     "output_type": "stream",
     "text": [
      "Your name is: Humayl\n",
      "Your number is: 198\n",
      "Your age is: 1\n",
      "Your marks is: 80.5\n"
     ]
    }
   ],
   "source": [
    "name = \"Humayl\"\n",
    "num = 198\n",
    "age = 1\n",
    "marks = 80.50\n",
    "\n",
    "print(\"Your name is:\", name)\n",
    "print(\"Your number is:\", num)\n",
    "print(\"Your age is:\", age)\n",
    "print(\"Your marks is:\", marks)"
   ],
   "metadata": {
    "collapsed": false
   }
  },
  {
   "cell_type": "code",
   "execution_count": 5,
   "outputs": [
    {
     "name": "stdout",
     "output_type": "stream",
     "text": [
      "A B C D E D E F G F I\n"
     ]
    }
   ],
   "source": [
    "# valid variable names (case sensitive variable names)\n",
    "name = \"A\"\n",
    "Name = \"B\"\n",
    "naMe = \"C\"\n",
    "NAME = \"D\"\n",
    "n_a_m_e = \"E\"\n",
    "_name = \"F\"\n",
    "name_ = \"G\"\n",
    "_name_ = \"H\"\n",
    "na56me = \"I\"\n",
    "\n",
    "print(name,Name,naMe,NAME,n_a_m_e, NAME, n_a_m_e, _name, name_,_name, na56me)"
   ],
   "metadata": {
    "collapsed": false
   }
  },
  {
   "cell_type": "code",
   "execution_count": 6,
   "outputs": [
    {
     "name": "stdout",
     "output_type": "stream",
     "text": [
      "10\n",
      "10\n",
      "10\n"
     ]
    }
   ],
   "source": [
    "# Assigning single value to multiple variables\n",
    "x=y=z= 10\n",
    "print(x)\n",
    "print(y)\n",
    "print(z)"
   ],
   "metadata": {
    "collapsed": false
   }
  },
  {
   "cell_type": "code",
   "execution_count": 7,
   "outputs": [
    {
     "name": "stdout",
     "output_type": "stream",
     "text": [
      "5\n",
      "10\n",
      "15\n"
     ]
    }
   ],
   "source": [
    "# Assigning multiple values to multiple variables:\n",
    "a,b,c=5,10,15\n",
    "print(a)\n",
    "print(b)\n",
    "print(c)"
   ],
   "metadata": {
    "collapsed": false
   }
  },
  {
   "cell_type": "code",
   "execution_count": 8,
   "outputs": [
    {
     "name": "stdout",
     "output_type": "stream",
     "text": [
      "<class 'int'>\n",
      "10000000000000000000000000000000000000000001\n"
     ]
    }
   ],
   "source": [
    "# A Python program to display that we can store\n",
    "# large numbers in Python\n",
    "\n",
    "a = 10000000000000000000000000000000000000000000\n",
    "a = a + 1\n",
    "print(type(a))\n",
    "print (a)"
   ],
   "metadata": {
    "collapsed": false
   }
  },
  {
   "cell_type": "code",
   "execution_count": 9,
   "outputs": [
    {
     "name": "stdout",
     "output_type": "stream",
     "text": [
      "5\n",
      "5\n"
     ]
    }
   ],
   "source": [
    "# Printing Single Variable\n",
    "a = 5\n",
    "print(a)\n",
    "print((a))"
   ],
   "metadata": {
    "collapsed": false
   }
  },
  {
   "cell_type": "code",
   "execution_count": 10,
   "outputs": [
    {
     "name": "stdout",
     "output_type": "stream",
     "text": [
      "5 6\n",
      "1 2 3 4 5 6 7 8\n"
     ]
    }
   ],
   "source": [
    "# Printing Multiple Variables\n",
    "a = 5\n",
    "b = 6\n",
    "# printing multiple variables\n",
    "print(a,b)\n",
    "# separate the variables by the comma\n",
    "print(1, 2, 3, 4, 5, 6, 7, 8)"
   ],
   "metadata": {
    "collapsed": false
   }
  },
  {
   "cell_type": "markdown",
   "source": [
    "### Decision Making"
   ],
   "metadata": {
    "collapsed": false
   }
  },
  {
   "cell_type": "code",
   "execution_count": 7,
   "outputs": [
    {
     "name": "stdout",
     "output_type": "stream",
     "text": [
      "Number is even\n"
     ]
    }
   ],
   "source": [
    "# if conditional statement\n",
    "num = int(input(\"Enter the number:\"))\n",
    "\n",
    "if num % 2== 0:\n",
    "    print(\"Number is even\")"
   ],
   "metadata": {
    "collapsed": false
   }
  },
  {
   "cell_type": "code",
   "execution_count": 6,
   "outputs": [
    {
     "name": "stdout",
     "output_type": "stream",
     "text": [
      "Number is Odd\n"
     ]
    }
   ],
   "source": [
    "# if-else conditional statements\n",
    "\n",
    "num = int(input(\"Enter the number:\"))\n",
    "\n",
    "if num % 2== 0:\n",
    "    print(\"Number is Even\")\n",
    "else:\n",
    "    print(\"Number is Odd\")"
   ],
   "metadata": {
    "collapsed": false
   }
  },
  {
   "cell_type": "code",
   "execution_count": 13,
   "outputs": [
    {
     "name": "stdout",
     "output_type": "stream",
     "text": [
      "Number is equal to 10!\n"
     ]
    }
   ],
   "source": [
    "# elif statement\n",
    "\n",
    "num = int(input(\"Enter the number:\"))\n",
    "\n",
    "if num == 10:\n",
    "    print(\"Number is equal to 10!\")\n",
    "elif num == 50:\n",
    "    print(\"Number is equal to 50!\")\n",
    "elif num ==100:\n",
    "    print(\"Number is equal to 100!\")\n",
    "else:\n",
    "    print(\"Number is not equal to 10, 50, or 100\")\n"
   ],
   "metadata": {
    "collapsed": false
   }
  },
  {
   "cell_type": "code",
   "execution_count": 20,
   "outputs": [
    {
     "name": "stdout",
     "output_type": "stream",
     "text": [
      "You scored grade B + ...\n"
     ]
    }
   ],
   "source": [
    "# Student grade calculation\n",
    "\n",
    "marks = int(input(\"Enter the marks\"))\n",
    "\n",
    "if 85 < marks <= 100:\n",
    "    print(\"Congrats ! you scored grade A\")\n",
    "elif 60 < marks <= 85:\n",
    "    print(\"You scored grade B + ...\")\n",
    "elif 40 < marks <= 60:\n",
    "    print(\"You scored grade B ...\")\n",
    "elif 30 < marks >= 40:\n",
    "    print(\"You scored grade C ....\")\n",
    "else:\n",
    "   print(\"Sorry you are Fail ?\")"
   ],
   "metadata": {
    "collapsed": false
   }
  },
  {
   "cell_type": "markdown",
   "source": [
    "### Loops"
   ],
   "metadata": {
    "collapsed": false
   }
  },
  {
   "cell_type": "code",
   "execution_count": 37,
   "outputs": [
    {
     "name": "stdout",
     "output_type": "stream",
     "text": [
      "Number range is: 1\n",
      "Number range is: 2\n",
      "Number range is: 3\n",
      "Number range is: 4\n",
      "Number range is: 5\n",
      "Number range is: 6\n",
      "Number range is: 7\n",
      "Number range is: 8\n",
      "Number range is: 9\n",
      "Number range is: 10\n"
     ]
    }
   ],
   "source": [
    "num = [1,2,3,4,5,6,7,8,9,10]\n",
    "\n",
    "for n in num:\n",
    "    print(\"Number range is:\", n)\n"
   ],
   "metadata": {
    "collapsed": false
   }
  },
  {
   "cell_type": "code",
   "execution_count": 35,
   "outputs": [
    {
     "name": "stdout",
     "output_type": "stream",
     "text": [
      "Sum of numbers is: 385\n"
     ]
    }
   ],
   "source": [
    "numbers = [1, 2, 3, 4, 5, 6, 7, 8, 9, 10]\n",
    "sum_ = 0\n",
    "\n",
    "for num in numbers:\n",
    "    sum_ = sum_ + num**2\n",
    "print(\"Sum of numbers is:\", sum_)"
   ],
   "metadata": {
    "collapsed": false
   }
  },
  {
   "cell_type": "code",
   "execution_count": 38,
   "outputs": [
    {
     "name": "stdout",
     "output_type": "stream",
     "text": [
      "[3, 5, 6, 8, 4, 5, 7, 8, 10, 6]\n"
     ]
    }
   ],
   "source": [
    "# range function\n",
    "\n",
    "my_list = [3, 5, 6, 8, 4]\n",
    "for iter_var in range( len( my_list ) ):\n",
    "    my_list.append(my_list[iter_var] + 2)\n",
    "print( my_list )"
   ],
   "metadata": {
    "collapsed": false
   }
  },
  {
   "cell_type": "code",
   "execution_count": 41,
   "outputs": [
    {
     "name": "stdout",
     "output_type": "stream",
     "text": [
      "Marks of Itika are:  90\n",
      "Marks of Parker are:  There is no student of name Parker in the records\n"
     ]
    }
   ],
   "source": [
    "## Using else Statement with for Loop\n",
    "\n",
    "# code to print marks of a student from the record\n",
    "student_name_1 = 'Itika'\n",
    "student_name_2 = 'Parker'\n",
    "\n",
    "\n",
    "# Creating a dictionary of records of the students\n",
    "records = {'Itika': 90, 'Arshia': 92, 'Peter': 46}\n",
    "def marks( student_name ):\n",
    "    for a_student in records: # for loop will iterate over the keys of the dictionary\n",
    "        if a_student == student_name:\n",
    "            return records[ a_student ]\n",
    "            break\n",
    "    else:\n",
    "        return f'There is no student of name {student_name} in the records'\n",
    "\n",
    "# giving the function marks() name of two students\n",
    "print( f\"Marks of {student_name_1} are: \", marks( student_name_1 ) )\n",
    "print( f\"Marks of {student_name_2} are: \", marks( student_name_2 ) )"
   ],
   "metadata": {
    "collapsed": false
   }
  },
  {
   "cell_type": "code",
   "execution_count": 39,
   "outputs": [
    {
     "name": "stdout",
     "output_type": "stream",
     "text": [
      "0 0 1 2 3 3 6 6 7 8 8 "
     ]
    }
   ],
   "source": [
    "# Nested loop\n",
    "\n",
    "import random\n",
    "numbers = [ ]\n",
    "for val in range(0, 11):\n",
    "    numbers.append( random.randint( 0, 11 ) )\n",
    "for num in range( 0, 11 ):\n",
    "    for i in numbers:\n",
    "        if num == i:\n",
    "            print( num, end = \" \" )"
   ],
   "metadata": {
    "collapsed": false
   }
  }
 ],
 "metadata": {
  "kernelspec": {
   "display_name": "Python 3",
   "language": "python",
   "name": "python3"
  },
  "language_info": {
   "codemirror_mode": {
    "name": "ipython",
    "version": 2
   },
   "file_extension": ".py",
   "mimetype": "text/x-python",
   "name": "python",
   "nbconvert_exporter": "python",
   "pygments_lexer": "ipython2",
   "version": "2.7.6"
  }
 },
 "nbformat": 4,
 "nbformat_minor": 0
}

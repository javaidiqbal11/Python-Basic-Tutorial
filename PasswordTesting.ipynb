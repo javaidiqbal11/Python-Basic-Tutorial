{
 "cells": [
  {
   "cell_type": "code",
   "execution_count": 1,
   "metadata": {},
   "outputs": [],
   "source": [
    "alpha_lower=['a','b','c','d']\n",
    "alpha_upper=['A','B','C','D']\n",
    "digits=['0','1','2','3']\n",
    "special=['@','!']\n",
    "vocab=alpha_lower+alpha_upper+digits+special\n",
    "\n",
    "fobj=open(\"pwds.txt\",\"w\")\n",
    "# what length you want to your password:5\n",
    "for a in vocab:\n",
    "    for b in vocab:\n",
    "        for c in vocab:\n",
    "            for d in vocab:\n",
    "                for e in vocab:\n",
    "                    fobj.write(a+b+c+d+e+\"\\n\")\n",
    "\n",
    "fobj.close()"
   ]
  },
  {
   "cell_type": "markdown",
   "metadata": {},
   "source": [
    "## Lab Pen testing"
   ]
  },
  {
   "cell_type": "code",
   "execution_count": 2,
   "metadata": {},
   "outputs": [
    {
     "name": "stdout",
     "output_type": "stream",
     "text": [
      "('mabdalla', 'Srtb@24e')\n",
      "('mabdalla', 'Srtb@24e') \t 401\n"
     ]
    }
   ],
   "source": [
    "import requests\n",
    "url=\"https://httpbin.org/basic-auth/admin/admin123\"\n",
    "login = \"mabdalla\"\n",
    "password = \"Srtb@24e\"\n",
    "\n",
    "cred = (login, password)\n",
    "print(cred)\n",
    "r = requests.get(url, auth=cred)\n",
    "print(cred,\"\\t\",r.status_code)"
   ]
  },
  {
   "cell_type": "code",
   "execution_count": 4,
   "metadata": {
    "pycharm": {
     "name": "#%%\n"
    }
   },
   "outputs": [
    {
     "name": "stdout",
     "output_type": "stream",
     "text": [
      "('admin', 'admin123')\n",
      "('admin', 'admin123') \t 200\n"
     ]
    }
   ],
   "source": [
    "import requests\n",
    "url=\"https://httpbin.org/basic-auth/admin/admin123\"\n",
    "login = \"admin\"\n",
    "password = \"admin123\"\n",
    "\n",
    "cred = (login, password)\n",
    "print(cred)\n",
    "r = requests.get(url, auth=cred)\n",
    "print(cred,\"\\t\",r.status_code)\n"
   ]
  }
 ],
 "metadata": {
  "kernelspec": {
   "display_name": "Python 3",
   "language": "python",
   "name": "python3"
  },
  "language_info": {
   "codemirror_mode": {
    "name": "ipython",
    "version": 3
   },
   "file_extension": ".py",
   "mimetype": "text/x-python",
   "name": "python",
   "nbconvert_exporter": "python",
   "pygments_lexer": "ipython3",
   "version": "3.8.5"
  }
 },
 "nbformat": 4,
 "nbformat_minor": 4
}
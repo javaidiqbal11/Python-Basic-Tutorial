{
 "cells": [
  {
   "cell_type": "code",
   "execution_count": 6,
   "metadata": {},
   "outputs": [
    {
     "name": "stdout",
     "output_type": "stream",
     "text": [
      "name plz:'-- SELECT * FROM USERS;\n",
      "Welome '-- SELECT * FROM USERS;\n"
     ]
    }
   ],
   "source": [
    "n = input(\"name plz:\")\n",
    "print(\"Welome\", n) "
   ]
  },
  {
   "cell_type": "markdown",
   "metadata": {},
   "source": [
    "### Recource Discovery Lab"
   ]
  },
  {
   "cell_type": "code",
   "execution_count": 8,
   "metadata": {},
   "outputs": [
    {
     "name": "stdout",
     "output_type": "stream",
     "text": [
      "http://localhost:8123/Lab_RD/page1.html 200\n",
      "<!DOCTYPE html>\r\n",
      "<html>\r\n",
      "<body>\r\n",
      "\r\n",
      "<h1>For resource discovery Lab</h1>\r\n",
      "<p>This is page1.html.</p>\r\n",
      "\r\n",
      "</body>\r\n",
      "</html> \n"
     ]
    }
   ],
   "source": [
    "import requests\n",
    "\n",
    "url=\"http://localhost:8123/Lab_RD/page1.html\"\n",
    "r = requests.get(url)\n",
    "print(url, r.status_code)\n",
    "print(r.text)"
   ]
  },
  {
   "cell_type": "code",
   "execution_count": 10,
   "metadata": {},
   "outputs": [
    {
     "name": "stdout",
     "output_type": "stream",
     "text": [
      "http://localhost:8123/Lab_RD/page3.html 404\n",
      "Resource not found\n"
     ]
    }
   ],
   "source": [
    "import requests\n",
    "\n",
    "url=\"http://localhost:8123/Lab_RD/page3.html\"\n",
    "r = requests.get(url)\n",
    "print(url, r.status_code)\n",
    "if (r.status_code!= 200):\n",
    "    print(\"Resource not found\")\n",
    "else:    \n",
    "    print(r.text)"
   ]
  },
  {
   "cell_type": "code",
   "execution_count": 17,
   "metadata": {},
   "outputs": [
    {
     "name": "stdout",
     "output_type": "stream",
     "text": [
      "URL\t\t\t\t\t\t Status code\n",
      "------------------------------------------------------------\n",
      "http://localhost:8123/Lab_RD/page1.html \t 200\n",
      "http://localhost:8123/Lab_RD/page2.html \t 200\n",
      "http://localhost:8123/Lab_RD/page3.html \t 404\n",
      "http://localhost:8123/Lab_RD/page4.html \t 200\n",
      "http://localhost:8123/Lab_RD/page5.html \t 200\n",
      "http://localhost:8123/Lab_RD/page6.html \t 200\n",
      "http://localhost:8123/Lab_RD/page7.html \t 200\n",
      "http://localhost:8123/Lab_RD/page8.html \t 404\n",
      "http://localhost:8123/Lab_RD/page9.html \t 200\n",
      "http://localhost:8123/Lab_RD/page10.html \t 200\n"
     ]
    }
   ],
   "source": [
    "#Q5 Version 1\n",
    "import requests\n",
    "urls =[\n",
    "    'http://localhost:8123/Lab_RD/page1.html', \n",
    "    'http://localhost:8123/Lab_RD/page2.html',\n",
    "    'http://localhost:8123/Lab_RD/page3.html',\n",
    "    'http://localhost:8123/Lab_RD/page4.html',\n",
    "    'http://localhost:8123/Lab_RD/page5.html',\n",
    "    'http://localhost:8123/Lab_RD/page6.html',\n",
    "    'http://localhost:8123/Lab_RD/page7.html',\n",
    "    'http://localhost:8123/Lab_RD/page8.html',\n",
    "    'http://localhost:8123/Lab_RD/page9.html',\n",
    "    'http://localhost:8123/Lab_RD/page10.html',    \n",
    "    ]\n",
    "\n",
    "print(\"URL\\t\\t\\t\\t\\t\\t\", \"Status code\")\n",
    "print(\"------------------------------------------------------------\")\n",
    "\n",
    "for url in urls:\n",
    "    r = requests.get(url)\n",
    "    print(r.url, \"\\t\", r.status_code)"
   ]
  },
  {
   "cell_type": "code",
   "execution_count": 18,
   "metadata": {
    "pycharm": {
     "name": "#%%\n"
    }
   },
   "outputs": [
    {
     "name": "stdout",
     "output_type": "stream",
     "text": [
      "URL\t\t\t\t\t\t Status code\n",
      "------------------------------------------------------------\n",
      "http://localhost:8123/Lab_RD/page1.html \t 200\n",
      "http://localhost:8123/Lab_RD/page2.html \t 200\n",
      "http://localhost:8123/Lab_RD/page3.html \t 404\n",
      "http://localhost:8123/Lab_RD/page4.html \t 200\n",
      "http://localhost:8123/Lab_RD/page5.html \t 200\n",
      "http://localhost:8123/Lab_RD/page6.html \t 200\n",
      "http://localhost:8123/Lab_RD/page7.html \t 200\n",
      "http://localhost:8123/Lab_RD/page8.html \t 404\n",
      "http://localhost:8123/Lab_RD/page9.html \t 200\n",
      "http://localhost:8123/Lab_RD/page10.html \t 200\n"
     ]
    }
   ],
   "source": [
    "#Q5 Version 2\n",
    "import requests\n",
    "\n",
    "fobj = open('Downloads/urls_file.txt')\n",
    "\n",
    "print(\"URL\\t\\t\\t\\t\\t\\t\", \"Status code\")\n",
    "print(\"------------------------------------------------------------\")\n",
    "for url in fobj:\n",
    "    url = url.strip()\n",
    "    r = requests.get(url)\n",
    "    print(r.url, \"\\t\", r.status_code) \n",
    "\n",
    "\n"
   ]
  }
 ],
 "metadata": {
  "kernelspec": {
   "display_name": "Python 3",
   "language": "python",
   "name": "python3"
  },
  "language_info": {
   "codemirror_mode": {
    "name": "ipython",
    "version": 3
   },
   "file_extension": ".py",
   "mimetype": "text/x-python",
   "name": "python",
   "nbconvert_exporter": "python",
   "pygments_lexer": "ipython3",
   "version": "3.8.5"
  }
 },
 "nbformat": 4,
 "nbformat_minor": 4
}